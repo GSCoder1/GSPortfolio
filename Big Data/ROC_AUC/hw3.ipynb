{
 "cells": [
  {
   "cell_type": "code",
   "execution_count": 10,
   "id": "fb6de8ae",
   "metadata": {},
   "outputs": [],
   "source": [
    "import pandas as pd\n",
    "import matplotlib.pyplot as plt\n",
    "from sklearn.metrics import roc_auc_score, roc_curve"
   ]
  },
  {
   "cell_type": "code",
   "execution_count": 11,
   "id": "21e7d11c",
   "metadata": {
    "scrolled": true
   },
   "outputs": [],
   "source": [
    "model_prob = [0.004, 0.015, 0.448, 0.568, 0.780, 0.879, 0.967, 0.978]\n",
    "model_class = [0, 1, 0, 1, 0, 0, 1, 1]"
   ]
  },
  {
   "cell_type": "code",
   "execution_count": 12,
   "id": "44b61968",
   "metadata": {},
   "outputs": [
    {
     "name": "stdout",
     "output_type": "stream",
     "text": [
      "Model: ROC AUC = 0.688\n"
     ]
    },
    {
     "data": {
      "image/png": "[encoded data removed]",
      "text/plain": [
       "<Figure size 432x288 with 1 Axes>"
      ]
     },
     "metadata": {
      "needs_background": "light"
     },
     "output_type": "display_data"
    }
   ],
   "source": [
    "def plot_roc_curve(model_class, model_prob):\n",
    "    random_probs = [0 for __ in range(len(model_prob))] # used for linear line to compare to ROC\n",
    "    \n",
    "    #AUC\n",
    "    model_auc = roc_auc_score(model_class, model_prob)\n",
    "    #model score\n",
    "    print(\"Model: ROC AUC = %.3f\" % (model_auc))\n",
    "    \n",
    "    #random model:\n",
    "    random_false_pos, random_true_pos, __ = roc_curve(model_class, random_probs)\n",
    "    \n",
    "    #actual model:\n",
    "    model_false_pos, model_true_pos, __ = roc_curve(model_class, model_prob)\n",
    "    \n",
    "    #roc curve plot\n",
    "    plt.plot(random_false_pos, random_true_pos, linestyle = '--', label = 'random')\n",
    "    plt.plot(model_false_pos, model_true_pos, marker = '.', label ='model')\n",
    "    \n",
    "    #labels, legend, show\n",
    "    plt.xlabel('False Positive Rate')\n",
    "    plt.ylabel('True Positive Rate')\n",
    "    plt.legend()\n",
    "    plt.show()\n",
    "    \n",
    "plot_roc_curve(model_class, model_prob)"
   ]
  },
  {
   "cell_type": "code",
   "execution_count": 13,
   "id": "4d37f813",
   "metadata": {},
   "outputs": [
    {
     "data": {
      "text/html": [
       "<div>\n",
       "<style scoped>\n",
       "    .dataframe tbody tr th:only-of-type {\n",
       "        vertical-align: middle;\n",
       "    }\n",
       "\n",
       "    .dataframe tbody tr th {\n",
       "        vertical-align: top;\n",
       "    }\n",
       "\n",
       "    .dataframe thead th {\n",
       "        text-align: right;\n",
       "    }\n",
       "</style>\n",
       "<table border=\"1\" class=\"dataframe\">\n",
       "  <thead>\n",
       "    <tr style=\"text-align: right;\">\n",
       "      <th></th>\n",
       "      <th>0</th>\n",
       "      <th>1</th>\n",
       "      <th>2</th>\n",
       "      <th>3</th>\n",
       "      <th>4</th>\n",
       "      <th>5</th>\n",
       "      <th>6</th>\n",
       "      <th>7</th>\n",
       "      <th>8</th>\n",
       "      <th>9</th>\n",
       "      <th>...</th>\n",
       "      <th>467</th>\n",
       "      <th>468</th>\n",
       "      <th>469</th>\n",
       "      <th>470</th>\n",
       "      <th>471</th>\n",
       "      <th>472</th>\n",
       "      <th>473</th>\n",
       "      <th>474</th>\n",
       "      <th>475</th>\n",
       "      <th>476</th>\n",
       "    </tr>\n",
       "  </thead>\n",
       "  <tbody>\n",
       "    <tr>\n",
       "      <th>0</th>\n",
       "      <td>5.5986</td>\n",
       "      <td>5.5986</td>\n",
       "      <td>5.5340</td>\n",
       "      <td>5.5340</td>\n",
       "      <td>289.37</td>\n",
       "      <td>289.82</td>\n",
       "      <td>289.30</td>\n",
       "      <td>289.66</td>\n",
       "      <td>289.37</td>\n",
       "      <td>289.82</td>\n",
       "      <td>...</td>\n",
       "      <td>21.206</td>\n",
       "      <td>41.042</td>\n",
       "      <td>42.338</td>\n",
       "      <td>41.042</td>\n",
       "      <td>42.108</td>\n",
       "      <td>2.1330</td>\n",
       "      <td>2.1744</td>\n",
       "      <td>2.1175</td>\n",
       "      <td>2.1175</td>\n",
       "      <td>1</td>\n",
       "    </tr>\n",
       "    <tr>\n",
       "      <th>1</th>\n",
       "      <td>5.5340</td>\n",
       "      <td>5.5521</td>\n",
       "      <td>5.5108</td>\n",
       "      <td>5.5185</td>\n",
       "      <td>289.64</td>\n",
       "      <td>289.89</td>\n",
       "      <td>289.63</td>\n",
       "      <td>289.76</td>\n",
       "      <td>289.64</td>\n",
       "      <td>289.89</td>\n",
       "      <td>...</td>\n",
       "      <td>21.258</td>\n",
       "      <td>42.108</td>\n",
       "      <td>42.108</td>\n",
       "      <td>41.881</td>\n",
       "      <td>42.033</td>\n",
       "      <td>2.1175</td>\n",
       "      <td>2.1227</td>\n",
       "      <td>2.1175</td>\n",
       "      <td>2.1175</td>\n",
       "      <td>1</td>\n",
       "    </tr>\n",
       "    <tr>\n",
       "      <th>2</th>\n",
       "      <td>5.5185</td>\n",
       "      <td>5.5185</td>\n",
       "      <td>5.4566</td>\n",
       "      <td>5.4772</td>\n",
       "      <td>289.86</td>\n",
       "      <td>290.07</td>\n",
       "      <td>289.65</td>\n",
       "      <td>289.93</td>\n",
       "      <td>289.86</td>\n",
       "      <td>290.07</td>\n",
       "      <td>...</td>\n",
       "      <td>21.268</td>\n",
       "      <td>42.033</td>\n",
       "      <td>42.261</td>\n",
       "      <td>41.804</td>\n",
       "      <td>41.881</td>\n",
       "      <td>2.1227</td>\n",
       "      <td>2.1227</td>\n",
       "      <td>2.1124</td>\n",
       "      <td>2.1124</td>\n",
       "      <td>1</td>\n",
       "    </tr>\n",
       "    <tr>\n",
       "      <th>3</th>\n",
       "      <td>5.4772</td>\n",
       "      <td>5.4772</td>\n",
       "      <td>5.3894</td>\n",
       "      <td>5.3894</td>\n",
       "      <td>289.93</td>\n",
       "      <td>290.13</td>\n",
       "      <td>289.63</td>\n",
       "      <td>289.86</td>\n",
       "      <td>289.93</td>\n",
       "      <td>290.13</td>\n",
       "      <td>...</td>\n",
       "      <td>21.310</td>\n",
       "      <td>42.033</td>\n",
       "      <td>42.186</td>\n",
       "      <td>42.033</td>\n",
       "      <td>42.108</td>\n",
       "      <td>2.1227</td>\n",
       "      <td>2.1227</td>\n",
       "      <td>2.0995</td>\n",
       "      <td>2.0995</td>\n",
       "      <td>1</td>\n",
       "    </tr>\n",
       "    <tr>\n",
       "      <th>4</th>\n",
       "      <td>5.3894</td>\n",
       "      <td>5.4152</td>\n",
       "      <td>5.3868</td>\n",
       "      <td>5.4152</td>\n",
       "      <td>289.85</td>\n",
       "      <td>290.03</td>\n",
       "      <td>289.45</td>\n",
       "      <td>289.51</td>\n",
       "      <td>289.85</td>\n",
       "      <td>290.03</td>\n",
       "      <td>...</td>\n",
       "      <td>21.310</td>\n",
       "      <td>42.108</td>\n",
       "      <td>42.186</td>\n",
       "      <td>42.033</td>\n",
       "      <td>42.108</td>\n",
       "      <td>2.0995</td>\n",
       "      <td>2.0995</td>\n",
       "      <td>2.0943</td>\n",
       "      <td>2.0995</td>\n",
       "      <td>0</td>\n",
       "    </tr>\n",
       "  </tbody>\n",
       "</table>\n",
       "<p>5 rows × 477 columns</p>\n",
       "</div>"
      ],
      "text/plain": [
       "      0       1       2       3       4       5       6       7       8    \\\n",
       "0  5.5986  5.5986  5.5340  5.5340  289.37  289.82  289.30  289.66  289.37   \n",
       "1  5.5340  5.5521  5.5108  5.5185  289.64  289.89  289.63  289.76  289.64   \n",
       "2  5.5185  5.5185  5.4566  5.4772  289.86  290.07  289.65  289.93  289.86   \n",
       "3  5.4772  5.4772  5.3894  5.3894  289.93  290.13  289.63  289.86  289.93   \n",
       "4  5.3894  5.4152  5.3868  5.4152  289.85  290.03  289.45  289.51  289.85   \n",
       "\n",
       "      9    ...     467     468     469     470     471     472     473  \\\n",
       "0  289.82  ...  21.206  41.042  42.338  41.042  42.108  2.1330  2.1744   \n",
       "1  289.89  ...  21.258  42.108  42.108  41.881  42.033  2.1175  2.1227   \n",
       "2  290.07  ...  21.268  42.033  42.261  41.804  41.881  2.1227  2.1227   \n",
       "3  290.13  ...  21.310  42.033  42.186  42.033  42.108  2.1227  2.1227   \n",
       "4  290.03  ...  21.310  42.108  42.186  42.033  42.108  2.0995  2.0995   \n",
       "\n",
       "      474     475  476  \n",
       "0  2.1175  2.1175    1  \n",
       "1  2.1175  2.1175    1  \n",
       "2  2.1124  2.1124    1  \n",
       "3  2.0995  2.0995    1  \n",
       "4  2.0943  2.0995    0  \n",
       "\n",
       "[5 rows x 477 columns]"
      ]
     },
     "execution_count": 13,
     "metadata": {},
     "output_type": "execute_result"
    }
   ],
   "source": [
    "#Part 2: Logistic Regression\n",
    "from sklearn.linear_model import LogisticRegression\n",
    "from sklearn import metrics\n",
    "import numpy as np\n",
    "\n",
    "df = pd.read_csv(\"EE627A_HW3_DataSet1.csv\", header = None)\n",
    "df.head()"
   ]
  },
  {
   "cell_type": "code",
   "execution_count": 14,
   "id": "d216b3a9",
   "metadata": {},
   "outputs": [
    {
     "data": {
      "text/plain": [
       "3995    0\n",
       "3996    0\n",
       "3997    0\n",
       "3998    1\n",
       "3999    0\n",
       "Name: 476, dtype: int64"
      ]
     },
     "execution_count": 14,
     "metadata": {},
     "output_type": "execute_result"
    }
   ],
   "source": [
    "predictor = df.iloc[:, 0:476]\n",
    "response = df[476]\n",
    "response.tail()"
   ]
  },
  {
   "cell_type": "code",
   "execution_count": 15,
   "id": "25be732d",
   "metadata": {},
   "outputs": [
    {
     "data": {
      "image/png": "[encoded data removed]",
      "text/plain": [
       "<Figure size 432x288 with 1 Axes>"
      ]
     },
     "metadata": {
      "needs_background": "light"
     },
     "output_type": "display_data"
    }
   ],
   "source": [
    "#fit and instantiate the model:\n",
    "logreg = LogisticRegression(solver='liblinear', C=10.0, random_state=0)\n",
    "logreg.fit(predictor, response)\n",
    "y_pred_proba = logreg.predict_proba(predictor)[::,1]\n",
    "\n",
    "#modeling:\n",
    "model_falsepos, model_truepos, __ = roc_curve(response, y_pred_proba)\n",
    "auc = roc_auc_score(response, y_pred_proba)\n",
    "\n",
    "#plot\n",
    "plt.plot(model_falsepos, model_truepos, label ='model, auc= '+str(auc))\n",
    "plt.legend()\n",
    "plt.show()"
   ]
  },
  {
   "cell_type": "code",
   "execution_count": 16,
   "id": "47678b03",
   "metadata": {},
   "outputs": [],
   "source": [
    "#Task 2\n",
    "training_set = df.iloc[0:3000, 0:476]\n",
    "validation_set = df.iloc[3000:4000, 0:476]\n",
    "response_training = df.iloc[0:3000, 476]\n",
    "response_validate = df.iloc[3000:4000, 476]\n",
    "#response_training = df[np.ix_([476], [0:3000])]"
   ]
  },
  {
   "cell_type": "code",
   "execution_count": 17,
   "id": "bc4f36b7",
   "metadata": {},
   "outputs": [
    {
     "data": {
      "image/png": "[encoded data removed]",
      "text/plain": [
       "<Figure size 432x288 with 1 Axes>"
      ]
     },
     "metadata": {
      "needs_background": "light"
     },
     "output_type": "display_data"
    }
   ],
   "source": [
    "#training set date to apply logistic regression\n",
    "model_train = LogisticRegression(solver='liblinear', C=10.0, random_state=0)\n",
    "model_train.fit(training_set, response_training)\n",
    "model_train_proba = model_train.predict_proba(training_set)[::,1]\n",
    "\n",
    "training_FP, training_TP, __ = roc_curve(response_training, model_train_proba)\n",
    "auc = roc_auc_score(response_training, model_train_proba)\n",
    "\n",
    "#plot\n",
    "plt.plot(training_FP, training_TP, label ='model, auc= '+str(auc))\n",
    "plt.legend()\n",
    "plt.show()"
   ]
  },
  {
   "cell_type": "code",
   "execution_count": 19,
   "id": "79d90ba0",
   "metadata": {},
   "outputs": [
    {
     "data": {
      "image/png": "[encoded data removed]",
      "text/plain": [
       "<Figure size 432x288 with 1 Axes>"
      ]
     },
     "metadata": {
      "needs_background": "light"
     },
     "output_type": "display_data"
    }
   ],
   "source": [
    "#validate set\n",
    "model_validate_proba = model_train.predict_proba(validation_set)[::,1]\n",
    "\n",
    "validate_FP, validate_TP, __ = roc_curve(response_validate, model_validate_proba)\n",
    "auc = roc_auc_score(response_validate, model_validate_proba)\n",
    "\n",
    "plt.plot(validate_FP, validate_TP, label ='model, auc= '+str(auc))\n",
    "plt.legend()\n",
    "plt.show()"
   ]
  },
  {
   "cell_type": "code",
   "execution_count": 20,
   "id": "a91252d7",
   "metadata": {},
   "outputs": [],
   "source": [
    "#The validate auc is 0.468 and the training auc is 0.897, a difference of 0.429\n",
    "#The validate model is not a good model because it shows that it is predicting false positives more than 50% of the time,\n",
    "#which is worse than guessing. Something is wrong with the model\n"
   ]
  }
 ],
 "metadata": {
  "kernelspec": {
   "display_name": "Python 3 (ipykernel)",
   "language": "python",
   "name": "python3"
  },
  "language_info": {
   "codemirror_mode": {
    "name": "ipython",
    "version": 3
   },
   "file_extension": ".py",
   "mimetype": "text/x-python",
   "name": "python",
   "nbconvert_exporter": "python",
   "pygments_lexer": "ipython3",
   "version": "3.8.11"
  }
 },
 "nbformat": 4,
 "nbformat_minor": 5
}
