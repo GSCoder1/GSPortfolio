{
 "cells": [
  {
   "cell_type": "code",
   "execution_count": 1,
   "id": "848be8ff",
   "metadata": {},
   "outputs": [],
   "source": [
    "import numpy as np\n",
    "import pandas as pd"
   ]
  },
  {
   "cell_type": "code",
   "execution_count": 2,
   "id": "f0042220",
   "metadata": {
    "scrolled": true
   },
   "outputs": [
    {
     "data": {
      "text/plain": [
       "\"\\nTask:\\nPredict which song a user would like based on his ratings\\nAssign 3 values of 1 for songs you recommend, and 3 values of 0 for songs you don't recommend\\nFind AUC\\n\\nData format:\\nTrain: User | Item | Rating\\nNote that item could be anything (track, album, artist, genre)\\nTest: User | Track | Album | Artist | Genres...\\n\\n0th Approach:\\n- add if trainUserID > userID: section\\n- this is enough for over 0.8 rating on Kaggle\\n\\n\\nFirst Approach:\\n- Use mean data to find best rated songs\\n- Use median\\n- Use Max/Min (the 3 highest overall score)\\n\\nSecond Approach:\\n- Use weighed approach. If Track > Artist > Album > Genre. Perhaps a 30/25/20/15 weight for all of these and add up numbers\\n\\nThird Approach:\\n- YOLO and give give everything random numbers? 50% auc theoretically\\n\""
      ]
     },
     "execution_count": 2,
     "metadata": {},
     "output_type": "execute_result"
    }
   ],
   "source": [
    "\"\"\"\n",
    "Task:\n",
    "Predict which song a user would like based on his ratings\n",
    "Assign 3 values of 1 for songs you recommend, and 3 values of 0 for songs you don't recommend\n",
    "Find AUC\n",
    "\n",
    "Data format:\n",
    "Train: User | Item | Rating\n",
    "Note that item could be anything (track, album, artist, genre)\n",
    "Test: User | Track | Album | Artist | Genres...\n",
    "\n",
    "0th Approach:\n",
    "- add if trainUserID > userID: section\n",
    "- this is enough for over 0.8 rating on Kaggle\n",
    "\n",
    "\n",
    "First Approach:\n",
    "- Use mean data to find best rated songs\n",
    "- Use median\n",
    "- Use Max/Min (the 3 highest overall score)\n",
    "\n",
    "Second Approach:\n",
    "- Use weighed approach. If Track > Artist > Album > Genre. Perhaps a 30/25/20/15 weight for all of these and add up numbers\n",
    "\n",
    "Third Approach:\n",
    "- YOLO and give give everything random numbers? 50% auc theoretically\n",
    "\"\"\""
   ]
  },
  {
   "cell_type": "code",
   "execution_count": 3,
   "id": "c4385e73",
   "metadata": {},
   "outputs": [],
   "source": [
    "file_test = 'testTrack_hierarchy.txt'\n",
    "file_train = 'trainIdx2_matrix.txt'\n",
    "output_file= 'output.txt'\n",
    "format_output = 'submission.txt'"
   ]
  },
  {
   "cell_type": "code",
   "execution_count": 4,
   "id": "479b0bea",
   "metadata": {},
   "outputs": [
    {
     "data": {
      "text/plain": [
       "18"
      ]
     },
     "execution_count": 4,
     "metadata": {},
     "output_type": "execute_result"
    }
   ],
   "source": [
    "fTest = open(file_test, 'r')\n",
    "fTrain = open(file_train, 'r')\n",
    "Trainline = fTrain.readline()\n",
    "fOutput = open(output_file, 'w')\n",
    "fFormat = open(format_output,'w')\n",
    "fOutput.write('userID'+ '|' +'trackID'+ '|' + 'recommendation'+ '|' \n",
    "           + 'album'+ '|' + 'artist'+ '|' + 'num_genre_ratings' + '|' \n",
    "           +  'mean' + '\\n')\n",
    "fFormat.write('TrackID' + '|' + 'Predictor' + '\\n')"
   ]
  },
  {
   "cell_type": "code",
   "execution_count": 9,
   "id": "a5063467",
   "metadata": {},
   "outputs": [],
   "source": [
    "trackID_vec=[0]*6\n",
    "albumID_vec=[0]*6\n",
    "artistID_vec=[0]*6\n",
    "lastUserID=-1\n",
    "mean_vec=[0]*6\n",
    "max_vec=[0]*6\n",
    "num_genres_vec=[0]*6"
   ]
  },
  {
   "cell_type": "code",
   "execution_count": 10,
   "id": "07dc8575",
   "metadata": {},
   "outputs": [
    {
     "data": {
      "text/plain": [
       "array([[0., 0., 0.],\n",
       "       [0., 0., 0.],\n",
       "       [0., 0., 0.],\n",
       "       [0., 0., 0.],\n",
       "       [0., 0., 0.],\n",
       "       [0., 0., 0.]])"
      ]
     },
     "execution_count": 10,
     "metadata": {},
     "output_type": "execute_result"
    }
   ],
   "source": [
    "user_rating_inTrain=np.zeros(shape=(6,3))\n",
    "user_rating_inTrain"
   ]
  },
  {
   "cell_type": "code",
   "execution_count": 17,
   "id": "3bb917bd",
   "metadata": {},
   "outputs": [
    {
     "data": {
      "text/plain": [
       "list"
      ]
     },
     "execution_count": 17,
     "metadata": {},
     "output_type": "execute_result"
    }
   ],
   "source": [
    "type(max_vec)"
   ]
  },
  {
   "cell_type": "code",
   "execution_count": 28,
   "id": "ec50152c",
   "metadata": {},
   "outputs": [
    {
     "ename": "TypeError",
     "evalue": "'function' object is not subscriptable",
     "output_type": "error",
     "traceback": [
      "\u001b[1;31m---------------------------------------------------------------------------\u001b[0m",
      "\u001b[1;31mTypeError\u001b[0m                                 Traceback (most recent call last)",
      "\u001b[1;32mC:\\Users\\GURPRE~1\\AppData\\Local\\Temp/ipykernel_8664/1211195331.py\u001b[0m in \u001b[0;36m<module>\u001b[1;34m\u001b[0m\n\u001b[0;32m     55\u001b[0m                 \u001b[1;32mfor\u001b[0m \u001b[0mnn\u001b[0m \u001b[1;32min\u001b[0m \u001b[0mrange\u001b[0m\u001b[1;33m(\u001b[0m\u001b[1;36m0\u001b[0m\u001b[1;33m,\u001b[0m \u001b[1;36m6\u001b[0m\u001b[1;33m)\u001b[0m\u001b[1;33m:\u001b[0m\u001b[1;33m\u001b[0m\u001b[1;33m\u001b[0m\u001b[0m\n\u001b[0;32m     56\u001b[0m                     \u001b[0m_list\u001b[0m \u001b[1;33m=\u001b[0m \u001b[1;33m[\u001b[0m\u001b[0malbumID_vec\u001b[0m\u001b[1;33m[\u001b[0m\u001b[0mnn\u001b[0m\u001b[1;33m]\u001b[0m\u001b[1;33m,\u001b[0m \u001b[0martistID_vec\u001b[0m\u001b[1;33m[\u001b[0m\u001b[0mnn\u001b[0m\u001b[1;33m]\u001b[0m\u001b[1;33m,\u001b[0m \u001b[0mtrackID_vec\u001b[0m\u001b[1;33m[\u001b[0m\u001b[0mnn\u001b[0m\u001b[1;33m]\u001b[0m\u001b[1;33m,\u001b[0m \u001b[0mnum_genres_vec\u001b[0m\u001b[1;33m[\u001b[0m\u001b[0mnn\u001b[0m\u001b[1;33m]\u001b[0m\u001b[1;33m]\u001b[0m \u001b[1;31m#put everything into list\u001b[0m\u001b[1;33m\u001b[0m\u001b[1;33m\u001b[0m\u001b[0m\n\u001b[1;32m---> 57\u001b[1;33m                     \u001b[0m_list_\u001b[0m \u001b[1;33m=\u001b[0m \u001b[0mpd\u001b[0m\u001b[1;33m.\u001b[0m\u001b[0mto_numeric\u001b[0m\u001b[1;33m[\u001b[0m\u001b[0m_list\u001b[0m\u001b[1;33m]\u001b[0m\u001b[1;33m\u001b[0m\u001b[1;33m\u001b[0m\u001b[0m\n\u001b[0m\u001b[0;32m     58\u001b[0m                     \u001b[1;32mfor\u001b[0m \u001b[0mi\u001b[0m \u001b[1;32min\u001b[0m \u001b[0m_list_\u001b[0m\u001b[1;33m:\u001b[0m\u001b[1;33m\u001b[0m\u001b[1;33m\u001b[0m\u001b[0m\n\u001b[0;32m     59\u001b[0m                         \u001b[1;32mif\u001b[0m \u001b[1;33m(\u001b[0m\u001b[0mmaxx\u001b[0m \u001b[1;32mis\u001b[0m \u001b[1;32mNone\u001b[0m \u001b[1;32mor\u001b[0m \u001b[0mi\u001b[0m \u001b[1;33m>\u001b[0m \u001b[0mmaxx\u001b[0m\u001b[1;33m)\u001b[0m\u001b[1;33m:\u001b[0m\u001b[1;33m\u001b[0m\u001b[1;33m\u001b[0m\u001b[0m\n",
      "\u001b[1;31mTypeError\u001b[0m: 'function' object is not subscriptable"
     ]
    }
   ],
   "source": [
    "for line in fTest:\n",
    "    arr_test=line.strip().split('|') #this strips the line at | and makes into array\n",
    "    userID= arr_test[0]\n",
    "    trackID= arr_test[1]\n",
    "    albumID= arr_test[2]\n",
    "    artistID=arr_test[3]\n",
    "    mean = 0\n",
    "    summ = 0\n",
    "    maxx = 0\n",
    "    num_genres = 0\n",
    "    genres = []\n",
    "    #ii = 0\n",
    "#Problem: genre may exceed 1, need to append to array\n",
    "    if len(arr_test) > 4:\n",
    "        num_genres = len(arr_test) - 4 #total num genres\n",
    "        #genres = [] #create empty array\n",
    "        for i in range(4, len(arr_test)):\n",
    "            genres.append([arr_test[i]])\n",
    "         \n",
    "    if userID!= lastUserID: #resets the userId\n",
    "        ii=0\n",
    "        user_rating_inTrain=np.zeros(shape=(6,3))\n",
    "        \n",
    "    trackID_vec[ii]=trackID\n",
    "    albumID_vec[ii]=albumID\n",
    "    artistID_vec[ii]=artistID\n",
    "    num_genres_vec[ii]=genres #won't show actual rating\n",
    "    mean_vec[ii] = mean\n",
    "    max_vec[ii] = maxx;\n",
    "    ii=ii+1 #increases until 6. How does it know to stop at 6? If statement below? Or user_rating shape\n",
    "    lastUserID=userID\n",
    "    \n",
    "    if ii==6: \n",
    "        while (Trainline):\n",
    "            # for Trainline in fTrain:\n",
    "            arr_train = Trainline.strip().split('|')\n",
    "            #userId in test, trainUserID in train files\n",
    "            trainUserID=arr_train[0]\n",
    "            trainItemID=arr_train[1]\n",
    "            trainRating=arr_train[2]\n",
    "            Trainline=fTrain.readline()\n",
    "            \n",
    "            if trainUserID < userID: #train is less than userId, meaning that userId doesn't have that itemId, goes to next\n",
    "                continue\n",
    "            if trainUserID == userID: \n",
    "                for nn in range(0, 6):\n",
    "                    if trainItemID==albumID_vec[nn]:\n",
    "                        user_rating_inTrain[nn, 0]=trainRating\n",
    "                    if trainItemID==artistID_vec[nn]:\n",
    "                        user_rating_inTrain[nn, 1]=trainRating\n",
    "            if trainUserID > userID: \n",
    "                #[int(num, base=16) for num in fTest]\n",
    "                #int(arr_train.translate(str.maketrans({'|':\" \"})), 16)\n",
    "                #sum = (user_rating_inTrain[nn,0]) + (user_rating_inTrain[nn, 1]) + (num_genres_vec[nn]) #+ (mean_vec[nn]) \n",
    "                for nn in range(0, 6):\n",
    "                    _list = [albumID_vec[nn], artistID_vec[nn], trackID_vec[nn], num_genres_vec[nn]] #put everything into list\n",
    "                    _list_ = pd.to_numeric[_list]\n",
    "                    for i in _list_:\n",
    "                        if (maxx is None or i > maxx):\n",
    "                            maxx = i\n",
    "                    mean = (user_rating_inTrain[nn,0] + user_rating_inTrain[nn,1]) / 2\n",
    "                    #maxx = max(_list)\n",
    "                    #if user_rating_inTrain[nn,0] > 30 or user_rating_inTrain[nn,1] > 30: #if album and artist rating > 35\n",
    "                    #change to and for next submission\n",
    "                    #if sum > 100:\n",
    "                    if mean > 30 | maxx > 90:\n",
    "                        outStr=str(userID) + '|' + str(trackID_vec[nn])+ '|' + 'yes' + '|' + str(user_rating_inTrain[nn,0]) + '|' + str(user_rating_inTrain[nn, 1]) + '|' + str(num_genres_vec[nn]) #'|' + str(mean_vec[nn]\n",
    "                        formatStr = str(userID) + '_' + str(trackID_vec[nn]) + '|' + str(1)\n",
    "                        fOutput.write(outStr + '\\n')\n",
    "                        fFormat.write(formatStr + '\\n')\n",
    "                    else:\n",
    "                        outStr=str(userID) + '|' + str(trackID_vec[nn])+ '|' + 'no' + '|' + str(user_rating_inTrain[nn,0]) + '|' + str(user_rating_inTrain[nn, 1]) + '|' + str(num_genres_vec[nn]) #+  '|' + str(mean_vec[nn]\n",
    "                        formatStr = str(userID) + '_' + str(trackID_vec[nn]) + '|' + str(0)\n",
    "                        fOutput.write(outStr + '\\n')\n",
    "                        fFormat.write(formatStr + '\\n')\n",
    "                break\n",
    "                            "
   ]
  },
  {
   "cell_type": "code",
   "execution_count": 8,
   "id": "005f10a3",
   "metadata": {},
   "outputs": [
    {
     "data": {
      "text/plain": [
       "array([[90., 90.,  0.],\n",
       "       [ 0.,  0.,  0.],\n",
       "       [ 0.,  0.,  0.],\n",
       "       [90., 90.,  0.],\n",
       "       [ 0.,  0.,  0.],\n",
       "       [90., 90.,  0.]])"
      ]
     },
     "execution_count": 8,
     "metadata": {},
     "output_type": "execute_result"
    }
   ],
   "source": [
    "user_rating_inTrain"
   ]
  },
  {
   "cell_type": "code",
   "execution_count": 9,
   "id": "f172d915",
   "metadata": {},
   "outputs": [],
   "source": [
    "fTest.close()\n",
    "fTrain.close()\n",
    "fOutput.close()\n",
    "fFormat.close()"
   ]
  },
  {
   "cell_type": "code",
   "execution_count": 10,
   "id": "f053c250",
   "metadata": {
    "scrolled": true
   },
   "outputs": [
    {
     "data": {
      "text/html": [
       "<div>\n",
       "<style scoped>\n",
       "    .dataframe tbody tr th:only-of-type {\n",
       "        vertical-align: middle;\n",
       "    }\n",
       "\n",
       "    .dataframe tbody tr th {\n",
       "        vertical-align: top;\n",
       "    }\n",
       "\n",
       "    .dataframe thead th {\n",
       "        text-align: right;\n",
       "    }\n",
       "</style>\n",
       "<table border=\"1\" class=\"dataframe\">\n",
       "  <thead>\n",
       "    <tr style=\"text-align: right;\">\n",
       "      <th></th>\n",
       "      <th>TrackID</th>\n",
       "      <th>Predictor</th>\n",
       "    </tr>\n",
       "  </thead>\n",
       "  <tbody>\n",
       "    <tr>\n",
       "      <th>0</th>\n",
       "      <td>199810_208019</td>\n",
       "      <td>0</td>\n",
       "    </tr>\n",
       "    <tr>\n",
       "      <th>1</th>\n",
       "      <td>199810_74139</td>\n",
       "      <td>0</td>\n",
       "    </tr>\n",
       "    <tr>\n",
       "      <th>2</th>\n",
       "      <td>199810_9903</td>\n",
       "      <td>0</td>\n",
       "    </tr>\n",
       "    <tr>\n",
       "      <th>3</th>\n",
       "      <td>199810_242681</td>\n",
       "      <td>0</td>\n",
       "    </tr>\n",
       "    <tr>\n",
       "      <th>4</th>\n",
       "      <td>199810_18515</td>\n",
       "      <td>1</td>\n",
       "    </tr>\n",
       "    <tr>\n",
       "      <th>...</th>\n",
       "      <td>...</td>\n",
       "      <td>...</td>\n",
       "    </tr>\n",
       "    <tr>\n",
       "      <th>119995</th>\n",
       "      <td>249010_72192</td>\n",
       "      <td>0</td>\n",
       "    </tr>\n",
       "    <tr>\n",
       "      <th>119996</th>\n",
       "      <td>249010_86104</td>\n",
       "      <td>0</td>\n",
       "    </tr>\n",
       "    <tr>\n",
       "      <th>119997</th>\n",
       "      <td>249010_186634</td>\n",
       "      <td>1</td>\n",
       "    </tr>\n",
       "    <tr>\n",
       "      <th>119998</th>\n",
       "      <td>249010_293818</td>\n",
       "      <td>0</td>\n",
       "    </tr>\n",
       "    <tr>\n",
       "      <th>119999</th>\n",
       "      <td>249010_262811</td>\n",
       "      <td>1</td>\n",
       "    </tr>\n",
       "  </tbody>\n",
       "</table>\n",
       "<p>120000 rows × 2 columns</p>\n",
       "</div>"
      ],
      "text/plain": [
       "              TrackID  Predictor\n",
       "0       199810_208019          0\n",
       "1        199810_74139          0\n",
       "2         199810_9903          0\n",
       "3       199810_242681          0\n",
       "4        199810_18515          1\n",
       "...               ...        ...\n",
       "119995   249010_72192          0\n",
       "119996   249010_86104          0\n",
       "119997  249010_186634          1\n",
       "119998  249010_293818          0\n",
       "119999  249010_262811          1\n",
       "\n",
       "[120000 rows x 2 columns]"
      ]
     },
     "execution_count": 10,
     "metadata": {},
     "output_type": "execute_result"
    }
   ],
   "source": [
    "reader = pd.read_csv(format_output, delimiter = '|')\n",
    "reader"
   ]
  },
  {
   "cell_type": "code",
   "execution_count": 11,
   "id": "9178f7e1",
   "metadata": {},
   "outputs": [],
   "source": [
    "reader.to_csv('submission3.csv', index = False)"
   ]
  },
  {
   "cell_type": "code",
   "execution_count": null,
   "id": "556aa269",
   "metadata": {},
   "outputs": [],
   "source": []
  }
 ],
 "metadata": {
  "kernelspec": {
   "display_name": "Python 3 (ipykernel)",
   "language": "python",
   "name": "python3"
  },
  "language_info": {
   "codemirror_mode": {
    "name": "ipython",
    "version": 3
   },
   "file_extension": ".py",
   "mimetype": "text/x-python",
   "name": "python",
   "nbconvert_exporter": "python",
   "pygments_lexer": "ipython3",
   "version": "3.8.11"
  }
 },
 "nbformat": 4,
 "nbformat_minor": 5
}
