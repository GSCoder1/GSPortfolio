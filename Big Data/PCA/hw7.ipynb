{
 "cells": [
  {
   "cell_type": "code",
   "execution_count": 49,
   "id": "b4ed37a8",
   "metadata": {},
   "outputs": [
    {
     "data": {
      "text/html": [
       "<div>\n",
       "<style scoped>\n",
       "    .dataframe tbody tr th:only-of-type {\n",
       "        vertical-align: middle;\n",
       "    }\n",
       "\n",
       "    .dataframe tbody tr th {\n",
       "        vertical-align: top;\n",
       "    }\n",
       "\n",
       "    .dataframe thead th {\n",
       "        text-align: right;\n",
       "    }\n",
       "</style>\n",
       "<table border=\"1\" class=\"dataframe\">\n",
       "  <thead>\n",
       "    <tr style=\"text-align: right;\">\n",
       "      <th></th>\n",
       "      <th>Mkt-RF</th>\n",
       "      <th>SMB</th>\n",
       "      <th>HML</th>\n",
       "      <th>RF</th>\n",
       "      <th>Mom</th>\n",
       "    </tr>\n",
       "  </thead>\n",
       "  <tbody>\n",
       "    <tr>\n",
       "      <th>0</th>\n",
       "      <td>1.000000</td>\n",
       "      <td>1.000000</td>\n",
       "      <td>1.000000</td>\n",
       "      <td>1.000000</td>\n",
       "      <td>1.000000</td>\n",
       "    </tr>\n",
       "    <tr>\n",
       "      <th>1</th>\n",
       "      <td>0.538767</td>\n",
       "      <td>0.181205</td>\n",
       "      <td>0.078444</td>\n",
       "      <td>0.385678</td>\n",
       "      <td>0.076150</td>\n",
       "    </tr>\n",
       "    <tr>\n",
       "      <th>2</th>\n",
       "      <td>0.311438</td>\n",
       "      <td>-0.138087</td>\n",
       "      <td>-0.566225</td>\n",
       "      <td>0.379039</td>\n",
       "      <td>0.190134</td>\n",
       "    </tr>\n",
       "    <tr>\n",
       "      <th>3</th>\n",
       "      <td>0.192926</td>\n",
       "      <td>-0.237403</td>\n",
       "      <td>-0.091411</td>\n",
       "      <td>0.079919</td>\n",
       "      <td>0.160320</td>\n",
       "    </tr>\n",
       "    <tr>\n",
       "      <th>4</th>\n",
       "      <td>-0.038368</td>\n",
       "      <td>-0.227750</td>\n",
       "      <td>0.001836</td>\n",
       "      <td>0.572369</td>\n",
       "      <td>-0.048704</td>\n",
       "    </tr>\n",
       "    <tr>\n",
       "      <th>5</th>\n",
       "      <td>0.079526</td>\n",
       "      <td>0.028412</td>\n",
       "      <td>0.027075</td>\n",
       "      <td>0.001376</td>\n",
       "      <td>0.012745</td>\n",
       "    </tr>\n",
       "    <tr>\n",
       "      <th>6</th>\n",
       "      <td>-0.066185</td>\n",
       "      <td>-0.270374</td>\n",
       "      <td>0.074835</td>\n",
       "      <td>0.273039</td>\n",
       "      <td>0.189619</td>\n",
       "    </tr>\n",
       "    <tr>\n",
       "      <th>7</th>\n",
       "      <td>-0.207892</td>\n",
       "      <td>-0.140559</td>\n",
       "      <td>-0.094099</td>\n",
       "      <td>-0.012596</td>\n",
       "      <td>-0.314257</td>\n",
       "    </tr>\n",
       "    <tr>\n",
       "      <th>8</th>\n",
       "      <td>-0.091080</td>\n",
       "      <td>0.046298</td>\n",
       "      <td>-0.039770</td>\n",
       "      <td>0.007937</td>\n",
       "      <td>0.145516</td>\n",
       "    </tr>\n",
       "    <tr>\n",
       "      <th>9</th>\n",
       "      <td>-0.203056</td>\n",
       "      <td>-0.120721</td>\n",
       "      <td>0.135602</td>\n",
       "      <td>0.220136</td>\n",
       "      <td>-0.031519</td>\n",
       "    </tr>\n",
       "    <tr>\n",
       "      <th>10</th>\n",
       "      <td>-0.129402</td>\n",
       "      <td>0.051306</td>\n",
       "      <td>-0.330988</td>\n",
       "      <td>-0.147054</td>\n",
       "      <td>-0.218290</td>\n",
       "    </tr>\n",
       "  </tbody>\n",
       "</table>\n",
       "</div>"
      ],
      "text/plain": [
       "      Mkt-RF       SMB       HML        RF       Mom\n",
       "0   1.000000  1.000000  1.000000  1.000000  1.000000\n",
       "1   0.538767  0.181205  0.078444  0.385678  0.076150\n",
       "2   0.311438 -0.138087 -0.566225  0.379039  0.190134\n",
       "3   0.192926 -0.237403 -0.091411  0.079919  0.160320\n",
       "4  -0.038368 -0.227750  0.001836  0.572369 -0.048704\n",
       "5   0.079526  0.028412  0.027075  0.001376  0.012745\n",
       "6  -0.066185 -0.270374  0.074835  0.273039  0.189619\n",
       "7  -0.207892 -0.140559 -0.094099 -0.012596 -0.314257\n",
       "8  -0.091080  0.046298 -0.039770  0.007937  0.145516\n",
       "9  -0.203056 -0.120721  0.135602  0.220136 -0.031519\n",
       "10 -0.129402  0.051306 -0.330988 -0.147054 -0.218290"
      ]
     },
     "execution_count": 49,
     "metadata": {},
     "output_type": "execute_result"
    }
   ],
   "source": [
    "#imported from hw1\n",
    "import pandas as pd\n",
    "from statsmodels.tsa.stattools import adfuller\n",
    "import matplotlib.pyplot as plt\n",
    "from statsmodels.graphics.tsaplots import plot_acf\n",
    "\n",
    "#basic correlation function\n",
    "df = pd.read_csv('EE627A_HW1_Data.csv', header=0)\n",
    "data = df.iloc[:, 1::]\n",
    "data.corr()\n",
    "\n",
    "#first four-factor correlation & RF\n",
    "dc = df[['Mkt-RF', 'SMB', 'HML','RF', 'Mom' ]]\n",
    "dc.corr()\n",
    "    \n",
    "\n",
    "#convert data to series\n",
    "MKTRF_Series = data['Mkt-RF'].squeeze()\n",
    "SMB_Series = data['SMB'].squeeze()\n",
    "HML_Series = data['HML'].squeeze()\n",
    "RF_Series = data['RF'].squeeze()\n",
    "Mom_Series = data['Mom'].squeeze()\n",
    "\n",
    "#new dataframe for first 5 col\n",
    "new_df = pd.DataFrame(data = {\n",
    "    'Mkt-RF': [],\n",
    "    'SMB': [],\n",
    "    'HML': [],\n",
    "    'RF': [],\n",
    "    'Mom': []\n",
    "})\n",
    "\n",
    "#compute autocorr and append to new df using series conversion\n",
    "for i in range(11):\n",
    "     new_df = new_df.append({\n",
    "         'Mkt-RF': MKTRF_Series.autocorr(lag=i),\n",
    "         'SMB': SMB_Series.autocorr(lag=i),\n",
    "         'HML': HML_Series.autocorr(lag=i),\n",
    "         'RF': RF_Series.autocorr(lag=i),\n",
    "         'Mom': Mom_Series.autocorr(lag=i)\n",
    "     },\n",
    "         ignore_index = True)\n",
    "\n",
    "#print(dc)\n",
    "#pd.plotting.autocorrelation_plot(new_df)\n",
    "#print (new_df)\n",
    "#print('\\nFor the four-factor model, Mkt-RF correlates most highly with every industry. Mom correlates negatively with each industry')\n",
    "#print('\\nRF does not correlate highly with the 30 industry time series. It is close to uncorrelated for most of them')\n",
    "\n",
    "#plot_acf(MKTRF_series, alpha=1, lags=20)\n",
    "df_stationarityTest = adfuller(df['Mkt-RF'], autolag='AIC')\n",
    "#print(\"P-value: \", df_stationarityTest[1])\n",
    "new_df\n",
    "#print('\\n based on the P-value above, the first column is stationary (<0.05), and since the plot below follows an exponential decay, there is an AR(1) model in the series')"
   ]
  },
  {
   "cell_type": "code",
   "execution_count": 50,
   "id": "34a0e7b4",
   "metadata": {},
   "outputs": [
    {
     "data": {
      "text/plain": [
       "array([[ 2.47516309,  2.8964102 ,  2.68113867,  2.39199797,  2.7637021 ],\n",
       "       [ 1.1688614 ,  0.48710048,  0.16565816,  0.43038046, -0.09103398],\n",
       "       [ 0.52502393, -0.45241996, -1.59403105,  0.40918234,  0.26118213],\n",
       "       [ 0.18937257, -0.74465858, -0.29797894, -0.54595043,  0.16905562],\n",
       "       [-0.46569669, -0.71625314, -0.04344974,  1.02651203, -0.47683806],\n",
       "       [-0.13179649,  0.0375049 ,  0.02544067, -0.79674952, -0.2869574 ],\n",
       "       [-0.54447929, -0.84167591,  0.1558078 ,  0.07070895,  0.25959047],\n",
       "       [-0.94582037, -0.4596933 , -0.30531526, -0.8413623 , -1.29740914],\n",
       "       [-0.61498491,  0.09013346, -0.15701939, -0.77579688,  0.12331057],\n",
       "       [-0.93212247, -0.40131956,  0.32167693, -0.09821738, -0.42373623],\n",
       "       [-0.72352077,  0.1048714 , -0.95192784, -1.27070525, -1.00086608]])"
      ]
     },
     "execution_count": 50,
     "metadata": {},
     "output_type": "execute_result"
    }
   ],
   "source": [
    "#make each column a PC by transforming using Standard Scaler\n",
    "from sklearn.preprocessing import StandardScaler\n",
    "scaler = StandardScaler()\n",
    "data_transform = scaler.fit_transform(new_df)\n",
    "#this standardizes the data\n",
    "data_transform"
   ]
  },
  {
   "cell_type": "code",
   "execution_count": 51,
   "id": "6967688f",
   "metadata": {},
   "outputs": [],
   "source": [
    "from sklearn.decomposition import PCA\n",
    "#instantiate the PCA class with 2 components\n",
    "pca = PCA(n_components = 2)\n",
    "pca_transform = pca.fit_transform(data_transform)"
   ]
  },
  {
   "cell_type": "code",
   "execution_count": 52,
   "id": "b0dda6c3",
   "metadata": {
    "scrolled": true
   },
   "outputs": [
    {
     "name": "stdout",
     "output_type": "stream",
     "text": [
      "(11, 2)\n",
      "(11, 5)\n"
     ]
    }
   ],
   "source": [
    "print(pca_transform.shape)\n",
    "print(data_transform.shape)\n",
    "#reduced columns from 5 to 2"
   ]
  },
  {
   "cell_type": "code",
   "execution_count": 53,
   "id": "7c59e08d",
   "metadata": {},
   "outputs": [
    {
     "data": {
      "image/png": "[encoded data removed]",
      "text/plain": [
       "<Figure size 432x288 with 1 Axes>"
      ]
     },
     "metadata": {
      "needs_background": "light"
     },
     "output_type": "display_data"
    }
   ],
   "source": [
    "#total variance explained = (lambda1 + lambda 2) / (lambda1...lambdaN)\n",
    "import numpy as np\n",
    "pca = PCA().fit(new_df) \n",
    "exp_var_pca = pca.explained_variance_ratio_ #can only use explained_variance_ratio_ with .fit\n",
    "cum_sum_eigenvalues = np.cumsum(exp_var_pca)\n",
    "plt.bar(range(0,len(exp_var_pca)), exp_var_pca, alpha=0.5, align='center', label='Individual explained variance')\n",
    "plt.step(range(0,len(cum_sum_eigenvalues)), cum_sum_eigenvalues, where='mid',label='Cumulative explained variance')\n",
    "plt.ylabel('Explained variance ratio')\n",
    "plt.xlabel('Principal component index')\n",
    "plt.legend(loc='center')\n",
    "plt.tight_layout()\n",
    "plt.show()"
   ]
  },
  {
   "cell_type": "code",
   "execution_count": 54,
   "id": "013c2f75",
   "metadata": {},
   "outputs": [
    {
     "name": "stdout",
     "output_type": "stream",
     "text": [
      "PC1:  0.7912284453682369\n",
      "PC2:  0.0946958946488332\n",
      "As it can be seen above, PC1 accounts for 75% of the covariance matrix, which makes sense since its variance should be maximal\n"
     ]
    }
   ],
   "source": [
    "print(\"PC1: \", exp_var_pca[0])\n",
    "print(\"PC2: \", exp_var_pca[1])\n",
    "print(\"As it can be seen above, PC1 accounts for 75% of the covariance matrix, which makes sense since its variance should be maximal\")"
   ]
  },
  {
   "cell_type": "code",
   "execution_count": 55,
   "id": "8b3dde7d",
   "metadata": {},
   "outputs": [
    {
     "data": {
      "text/plain": [
       "<matplotlib.collections.PathCollection at 0x16b376121c0>"
      ]
     },
     "execution_count": 55,
     "metadata": {},
     "output_type": "execute_result"
    },
    {
     "data": {
      "image/png": "[encoded data removed]",
      "text/plain": [
       "<Figure size 432x288 with 1 Axes>"
      ]
     },
     "metadata": {
      "needs_background": "light"
     },
     "output_type": "display_data"
    }
   ],
   "source": [
    "plt.scatter(pca_transform[:,0], pca_transform[:,1], c=new_df['Mom']) #Principal 1 & 2 plotted\n",
    "#Not enough data points"
   ]
  },
  {
   "cell_type": "code",
   "execution_count": 56,
   "id": "efc4b5c8",
   "metadata": {},
   "outputs": [],
   "source": [
    "#Sources:\n",
    "#https://vitalflux.com/pca-explained-variance-concept-python-example/\n",
    "#https://inst.eecs.berkeley.edu/~ee127/sp21/livebook/l_sym_pca.html\n",
    "#https://nickmccullum.com/python-machine-learning/principal-component-analysis-python/"
   ]
  }
 ],
 "metadata": {
  "kernelspec": {
   "display_name": "Python 3 (ipykernel)",
   "language": "python",
   "name": "python3"
  },
  "language_info": {
   "codemirror_mode": {
    "name": "ipython",
    "version": 3
   },
   "file_extension": ".py",
   "mimetype": "text/x-python",
   "name": "python",
   "nbconvert_exporter": "python",
   "pygments_lexer": "ipython3",
   "version": "3.8.11"
  }
 },
 "nbformat": 4,
 "nbformat_minor": 5
}
