{
 "cells": [
  {
   "cell_type": "code",
   "execution_count": 1,
   "id": "037bf544",
   "metadata": {},
   "outputs": [],
   "source": [
    "import numpy as np\n",
    "import tensorflow as tf\n",
    "from tensorflow.keras.preprocessing.image import ImageDataGenerator\n",
    "from tensorflow.keras.models import Sequential\n",
    "from tensorflow.keras.layers import Dense, Dropout, Activation, Flatten\n",
    "from tensorflow.keras.layers import Conv2D, MaxPooling2D\n",
    "from keras.callbacks import ReduceLROnPlateau"
   ]
  },
  {
   "cell_type": "code",
   "execution_count": 2,
   "id": "ad3480af",
   "metadata": {},
   "outputs": [],
   "source": [
    "X_train = np.load(\"features_train.npy\")\n",
    "X_test = np.load(\"features_test.npy\")\n",
    "y_train = np.load(\"labels_train.npy\")\n",
    "y_test = np.load(\"labels_test.npy\")"
   ]
  },
  {
   "cell_type": "code",
   "execution_count": 3,
   "id": "dd842ad0",
   "metadata": {},
   "outputs": [],
   "source": [
    "DATADIR_TRAIN = \"C:/Users/Gurpreet/Documents/BME571 - ML in BME/COVID_CNN/Covid19-dataset/train\"\n",
    "DATADIR_TEST = \"C:/Users/Gurpreet/Documents/BME571 - ML in BME/COVID_CNN/Covid19-dataset/test\""
   ]
  },
  {
   "cell_type": "code",
   "execution_count": 4,
   "id": "fde7eda3",
   "metadata": {},
   "outputs": [],
   "source": [
    "X_train = X_train / 255.0\n",
    "X_test = X_test / 255.0\n",
    "IMG_SIZE = 200"
   ]
  },
  {
   "cell_type": "code",
   "execution_count": 5,
   "id": "48571a19",
   "metadata": {},
   "outputs": [
    {
     "data": {
      "text/plain": [
       "array([], shape=(0, 200, 200, 3), dtype=float64)"
      ]
     },
     "execution_count": 5,
     "metadata": {},
     "output_type": "execute_result"
    }
   ],
   "source": [
    "X_train[1:1]"
   ]
  },
  {
   "cell_type": "code",
   "execution_count": 6,
   "id": "1d544d46",
   "metadata": {},
   "outputs": [],
   "source": [
    "train_generator = ImageDataGenerator(\n",
    "    rescale=1/255.,              # normalize pixel values between 0-1\n",
    "    width_shift_range=0.5,       # shift the width of the image 50%\n",
    "    rotation_range=90,           # random rotation by 90 degrees\n",
    "    horizontal_flip=True,        # 180 degree flip horizontally\n",
    "    vertical_flip=True,          # 180 degree flip vertically\n",
    "    validation_split=0.30        # 15% of the data will be used for validation at end of each epoch\n",
    ")\n",
    "test_generator = ImageDataGenerator(\n",
    "    rescale=1/255.,              # normalize pixel values between 0-1\n",
    ")"
   ]
  },
  {
   "cell_type": "code",
   "execution_count": 7,
   "id": "c779ec7f",
   "metadata": {},
   "outputs": [],
   "source": [
    "train_generator.fit(X_train)\n",
    "test_generator.fit(X_test)"
   ]
  },
  {
   "cell_type": "code",
   "execution_count": 8,
   "id": "5e24657c",
   "metadata": {},
   "outputs": [
    {
     "name": "stdout",
     "output_type": "stream",
     "text": [
      "Found 176 images belonging to 3 classes.\n",
      "Found 75 images belonging to 3 classes.\n",
      "Found 66 images belonging to 3 classes.\n"
     ]
    }
   ],
   "source": [
    "train_set = train_generator.flow_from_directory(\n",
    "                    DATADIR_TRAIN,\n",
    "                    subset = 'training',\n",
    "                    batch_size=32,\n",
    "                    target_size=(IMG_SIZE,IMG_SIZE),\n",
    "                    class_mode = 'sparse'\n",
    ")\n",
    "val_set = train_generator.flow_from_directory(\n",
    "                    DATADIR_TRAIN,\n",
    "                    subset = 'validation',\n",
    "                    batch_size=32,\n",
    "                    target_size=(IMG_SIZE,IMG_SIZE),\n",
    "                    class_mode = 'sparse'\n",
    ")\n",
    "test_set = test_generator.flow_from_directory(\n",
    "                    DATADIR_TEST,\n",
    "                    batch_size=32,\n",
    "                    target_size=(IMG_SIZE,IMG_SIZE),\n",
    "                    class_mode = 'sparse'\n",
    ")"
   ]
  },
  {
   "cell_type": "code",
   "execution_count": 9,
   "id": "f6ecfa3a",
   "metadata": {},
   "outputs": [],
   "source": [
    "learning_rate_reduction = ReduceLROnPlateau(monitor='val_acc', \n",
    "                                            patience=3, \n",
    "                                            verbose=1, \n",
    "                                            factor=0.5, \n",
    "                                            min_lr=0.00001)"
   ]
  },
  {
   "cell_type": "code",
   "execution_count": null,
   "id": "e31f498a",
   "metadata": {},
   "outputs": [],
   "source": [
    "model = Sequential()\n",
    "\n",
    "model.add(Conv2D(128, (3,3), input_shape=(IMG_SIZE,IMG_SIZE,3)))\n",
    "model.add(Activation('relu'))\n",
    "model.add(Dropout (0.25))\n",
    "model.add(MaxPooling2D(pool_size=(2,2)))\n",
    "\n",
    "model.add(Conv2D(256, (3,3)))\n",
    "model.add(Dropout (0.15))\n",
    "model.add(Activation('relu'))\n",
    "model.add(MaxPooling2D(pool_size=(2,2)))\n",
    "\n",
    "#model.add(Conv2D(256, (3,3)))\n",
    "#model.add(Activation('relu'))\n",
    "#model.add(MaxPooling2D(pool_size=(2,2)))\n",
    "\n",
    "\n",
    "model.add(Flatten())  # this converts our 3D feature maps to 1D feature vectors\n",
    "\n",
    "model.add(Dense(144, activation= 'relu'))\n",
    "model.add(Dense(64, activation='relu'))\n",
    "\n",
    "model.add(Dense(1))\n",
    "model.add(Activation('sigmoid'))\n",
    "\n",
    "model.compile(loss='binary_crossentropy',\n",
    "              optimizer='adam',\n",
    "              metrics=['accuracy'])\n",
    "\n",
    "model.fit(train_generator.flow(X_train, y_train, batch_size=128),\n",
    "                        epochs = 3,\n",
    "                        validation_data = (X_test, y_test),\n",
    "                        verbose = 2,\n",
    "                        steps_per_epoch = 7\n",
    "                        )"
   ]
  },
  {
   "cell_type": "code",
   "execution_count": null,
   "id": "f300028a",
   "metadata": {},
   "outputs": [],
   "source": []
  },
  {
   "cell_type": "code",
   "execution_count": null,
   "id": "c2100093",
   "metadata": {},
   "outputs": [],
   "source": []
  }
 ],
 "metadata": {
  "kernelspec": {
   "display_name": "Python 3 (ipykernel)",
   "language": "python",
   "name": "python3"
  },
  "language_info": {
   "codemirror_mode": {
    "name": "ipython",
    "version": 3
   },
   "file_extension": ".py",
   "mimetype": "text/x-python",
   "name": "python",
   "nbconvert_exporter": "python",
   "pygments_lexer": "ipython3",
   "version": "3.9.15"
  }
 },
 "nbformat": 4,
 "nbformat_minor": 5
}
