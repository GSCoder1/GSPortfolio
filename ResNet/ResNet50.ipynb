{
 "cells": [
  {
   "cell_type": "code",
   "execution_count": 7,
   "id": "ac0167e7",
   "metadata": {},
   "outputs": [],
   "source": [
    "import numpy as np\n",
    "import tensorflow as tf\n",
    "from tensorflow.keras.preprocessing.image import ImageDataGenerator\n",
    "from tensorflow.keras.models import Sequential, Model\n",
    "from tensorflow.keras.layers import Dense, Dropout, Activation, Flatten, ZeroPadding2D\n",
    "from tensorflow.keras.layers import Conv2D, MaxPooling2D, AveragePooling2D, BatchNormalization, Add, Input\n",
    "from keras.utils import to_categorical"
   ]
  },
  {
   "cell_type": "code",
   "execution_count": 8,
   "id": "104f907a",
   "metadata": {},
   "outputs": [],
   "source": [
    "X_train = np.load(\"features_train.npy\")\n",
    "X_test = np.load(\"features_test.npy\")\n",
    "y_train = np.load(\"labels_train.npy\")\n",
    "y_test = np.load(\"labels_test.npy\")\n",
    "\n",
    "DATADIR_TRAIN = \"C:/Users/Gurpreet/Documents/BME571 - ML in BME/COVID_CNN/Covid19-dataset/train\"\n",
    "DATADIR_TEST = \"C:/Users/Gurpreet/Documents/BME571 - ML in BME/COVID_CNN/Covid19-dataset/test\""
   ]
  },
  {
   "cell_type": "code",
   "execution_count": 9,
   "id": "742058ce",
   "metadata": {},
   "outputs": [],
   "source": [
    "X_train = X_train / 255.0\n",
    "X_test = X_test / 255.0\n",
    "IMG_SIZE = 224"
   ]
  },
  {
   "cell_type": "code",
   "execution_count": 10,
   "id": "c49d3372",
   "metadata": {},
   "outputs": [],
   "source": [
    "y_train = to_categorical(y_train, 3)\n",
    "y_test = to_categorical(y_test, 3)"
   ]
  },
  {
   "cell_type": "code",
   "execution_count": 22,
   "id": "09ce9aea",
   "metadata": {},
   "outputs": [],
   "source": [
    "def identity_block(X, filters):\n",
    "    f1, f2, f3 = filters\n",
    "    # save the value to add later\n",
    "    x_skip = X\n",
    "    \n",
    "    # Layer 1`\n",
    "    Conv2D(f1, kernel_size = (1, 1), strides = (1,1), padding = 'same')(X)\n",
    "    X = BatchNormalization(axis = 3)(X)\n",
    "    X = Activation('relu')(X)\n",
    "\n",
    "    # Layer 2\n",
    "    X = Conv2D(f2, kernel_size = (3,3), strides = (1,1), padding = 'same')(X)\n",
    "    X = BatchNormalization(axis = 3)(X)\n",
    "    X = Activation('relu')(X)\n",
    "    \n",
    "    #layer 3\n",
    "    X = Conv2D(f3, kernel_size = (1,1), strides = (1,1), padding = 'same')(X)\n",
    "    X = BatchNormalization(axis = 3)(X)\n",
    "\n",
    "    # Add skip value to main path\n",
    "    X = Add()([X, x_skip])\n",
    "    X = Activation('relu')(X)\n",
    "    \n",
    "    \n",
    "    return X"
   ]
  },
  {
   "cell_type": "code",
   "execution_count": 35,
   "id": "4dc4ed43",
   "metadata": {},
   "outputs": [],
   "source": [
    "def convolution_block(X, filters, s):\n",
    "    f1, f2, f3 = filters\n",
    "    # save the value to add later\n",
    "    x_skip = X\n",
    "    \n",
    "    # Layer 1\n",
    "    X = Conv2D(f1, (1,1), strides = (s, s))(X) #remove padding to scale down\n",
    "    X = BatchNormalization(axis=3)(X)\n",
    "    X = Activation('relu')(X)\n",
    "    \n",
    "    # Layer 2\n",
    "    X = Conv2D(f2, (3,3), strides = (1, 1), padding = 'same')(X)\n",
    "    X = BatchNormalization(axis=3)(X)\n",
    "    X = Activation('relu')(X)\n",
    "    \n",
    "    #layer 3\n",
    "    X = Conv2D(f3, kernel_size = (1,1), strides = (1,1), padding = 'same')(X)\n",
    "    X = BatchNormalization(axis = 3)(X)\n",
    "    \n",
    "    # Processing skip with conv(1,1)\n",
    "    x_skip = Conv2D(f3, (1,1), strides = (s,s))(x_skip)\n",
    "    x_skip = BatchNormalization(axis=3)(x_skip)\n",
    "    \n",
    "    # Add skip to main path\n",
    "    X = Add()([X, x_skip])     \n",
    "    X = Activation('relu')(X)\n",
    "    \n",
    "    return X"
   ]
  },
  {
   "cell_type": "code",
   "execution_count": 36,
   "id": "b2e1aa73",
   "metadata": {},
   "outputs": [],
   "source": [
    "def ResNet50(shape = (IMG_SIZE, IMG_SIZE, 3), classes = 3):\n",
    "    X_input = Input(shape)\n",
    "   \n",
    "    # STAGE 1: convolution w/ kernal size 7x7,  64 filters, with stride 2, followed by max pool\n",
    "    X = Conv2D(64, kernel_size = (7,7), strides = 2, padding = 'same')(X_input)\n",
    "    X = BatchNormalization(axis=3)(X)\n",
    "    X = Activation('relu')(X)\n",
    "    X = MaxPooling2D((3,3), strides=(2,2))(X)\n",
    "    \n",
    "    # STAGE 2\n",
    "    X = convolution_block(X, filters = [64, 64, 256], s=1)\n",
    "    X = identity_block(X, [64, 64, 256])\n",
    "    X = identity_block(X, [64, 64, 256])\n",
    "    \n",
    "    # STAGE 3\n",
    "    X = convolution_block(X, filters = [128, 128, 512], s=2)\n",
    "    X = identity_block(X, [128, 128, 512])\n",
    "    X = identity_block(X, [128, 128, 512])\n",
    "    X = identity_block(X, [128, 128, 512])\n",
    "    \n",
    "    # STAGE 4\n",
    "    X = convolution_block(X, filters = [256, 256, 1024], s=2)\n",
    "    X = identity_block(X, [256, 256, 1024])\n",
    "    X = identity_block(X, [256, 256, 1024])\n",
    "    X = identity_block(X, [256, 256, 1024])\n",
    "    X = identity_block(X, [256, 256, 1024])\n",
    "    X = identity_block(X, [256, 256, 1024])\n",
    "    \n",
    "    # STAGE 5\n",
    "    X = convolution_block(X, filters = [512, 512, 2048], s=2)\n",
    "    X = identity_block(X, [512, 512, 2048])\n",
    "    X = identity_block(X, [512, 512, 2048])\n",
    "    \n",
    "    X = AveragePooling2D(2,2, padding='same')(X)\n",
    "    \n",
    "    # output layer\n",
    "    X = Flatten()(X)\n",
    "    X = Dense(classes, activation='softmax')(X)\n",
    "    \n",
    "    # Create model\n",
    "    model = Model(inputs = X_input, outputs = X, name='ResNet50')\n",
    "    return model"
   ]
  },
  {
   "cell_type": "code",
   "execution_count": 37,
   "id": "0176c0e7",
   "metadata": {},
   "outputs": [],
   "source": [
    "model = ResNet50(shape = (IMG_SIZE,IMG_SIZE, 3), classes = 3)"
   ]
  },
  {
   "cell_type": "code",
   "execution_count": 38,
   "id": "f92bbeec",
   "metadata": {},
   "outputs": [],
   "source": [
    "model.compile(\n",
    "    optimizer='adam', # optimizer\n",
    "    loss='categorical_crossentropy', # loss function to optimize \n",
    "    metrics=['accuracy'] # metrics to monitor\n",
    ")"
   ]
  },
  {
   "cell_type": "code",
   "execution_count": 39,
   "id": "92cf5cb5",
   "metadata": {},
   "outputs": [
    {
     "name": "stdout",
     "output_type": "stream",
     "text": [
      "Epoch 1/5\n",
      "8/8 [==============================] - 26s 3s/step - loss: 9.5963 - accuracy: 0.4422\n",
      "Epoch 2/5\n",
      "8/8 [==============================] - 23s 3s/step - loss: 2.7395 - accuracy: 0.6892\n",
      "Epoch 3/5\n",
      "8/8 [==============================] - 23s 3s/step - loss: 0.7925 - accuracy: 0.7211\n",
      "Epoch 4/5\n",
      "8/8 [==============================] - 23s 3s/step - loss: 0.5838 - accuracy: 0.7928\n",
      "Epoch 5/5\n",
      "8/8 [==============================] - 23s 3s/step - loss: 0.5092 - accuracy: 0.8526\n"
     ]
    },
    {
     "data": {
      "text/plain": [
       "<keras.callbacks.History at 0x294546e47c0>"
      ]
     },
     "execution_count": 39,
     "metadata": {},
     "output_type": "execute_result"
    }
   ],
   "source": [
    "model.fit(\n",
    "    X_train, y_train,\n",
    "    epochs = 5,\n",
    "    batch_size = 32,\n",
    "    )"
   ]
  },
  {
   "cell_type": "code",
   "execution_count": 40,
   "id": "a259914e",
   "metadata": {},
   "outputs": [
    {
     "name": "stdout",
     "output_type": "stream",
     "text": [
      "3/3 [==============================] - 2s 453ms/step - loss: 38.9808 - accuracy: 0.3939\n",
      "Loss = 38.98080062866211\n",
      "Test Accuracy = 0.39393940567970276\n"
     ]
    }
   ],
   "source": [
    "preds = model.evaluate(X_test, y_test)\n",
    "print (\"Loss = \" + str(preds[0]))\n",
    "print (\"Test Accuracy = \" + str(preds[1]))"
   ]
  },
  {
   "cell_type": "code",
   "execution_count": null,
   "id": "ba47ed8c",
   "metadata": {},
   "outputs": [],
   "source": []
  }
 ],
 "metadata": {
  "kernelspec": {
   "display_name": "Python 3 (ipykernel)",
   "language": "python",
   "name": "python3"
  },
  "language_info": {
   "codemirror_mode": {
    "name": "ipython",
    "version": 3
   },
   "file_extension": ".py",
   "mimetype": "text/x-python",
   "name": "python",
   "nbconvert_exporter": "python",
   "pygments_lexer": "ipython3",
   "version": "3.9.15"
  }
 },
 "nbformat": 4,
 "nbformat_minor": 5
}
