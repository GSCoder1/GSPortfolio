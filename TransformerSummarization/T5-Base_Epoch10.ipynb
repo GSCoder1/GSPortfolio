{
 "cells": [
  {
   "cell_type": "code",
   "execution_count": 1,
   "id": "fdcf6f84-9f39-41cd-ad46-8838b6f75476",
   "metadata": {},
   "outputs": [
    {
     "name": "stderr",
     "output_type": "stream",
     "text": [
      "/home/ubuntu/.local/lib/python3.8/site-packages/pandas/core/computation/expressions.py:20: UserWarning: Pandas requires version '2.7.3' or newer of 'numexpr' (version '2.7.1' currently installed).\n",
      "  from pandas.core.computation.check import NUMEXPR_INSTALLED\n"
     ]
    }
   ],
   "source": [
    "import numpy as np\n",
    "import tensorflow as tf\n",
    "import keras\n",
    "\n",
    "from matplotlib import pyplot as plt\n",
    "from sklearn.model_selection import train_test_split\n",
    "\n",
    "from tqdm.auto import tqdm\n",
    "from transformers import AdamWeightDecay\n",
    "from transformers import AutoTokenizer\n",
    "from transformers import TFAutoModelForSeq2SeqLM, DataCollatorForSeq2Seq\n",
    "from datasets import load_dataset\n",
    "\n",
    "from rouge import Rouge\n",
    "\n",
    "from tensorflow.keras.callbacks import TensorBoard\n",
    "from tensorboard import notebook\n",
    "\n",
    "from tqdm.auto import tqdm"
   ]
  },
  {
   "cell_type": "code",
   "execution_count": 2,
   "id": "3eff995a-bee2-48e5-833c-22b512a2fc47",
   "metadata": {},
   "outputs": [],
   "source": [
    "dataset_T5Med = load_dataset('cnn_dailymail', '3.0.0', split='train[:15%]')\n",
    "dataset_test = load_dataset('cnn_dailymail', '3.0.0', split='test[0:100]')"
   ]
  },
  {
   "cell_type": "code",
   "execution_count": 3,
   "id": "acea72db-2efb-4cdd-bbe2-63d459bc6c85",
   "metadata": {},
   "outputs": [],
   "source": [
    "dataset_T5Med = dataset_T5Med.train_test_split(test_size=0.2)"
   ]
  },
  {
   "cell_type": "code",
   "execution_count": 4,
   "id": "7c6487ed-4636-4e92-85be-b52cf6dc26be",
   "metadata": {},
   "outputs": [
    {
     "data": {
      "text/plain": [
       "DatasetDict({\n",
       "    train: Dataset({\n",
       "        features: ['article', 'highlights', 'id'],\n",
       "        num_rows: 34453\n",
       "    })\n",
       "    test: Dataset({\n",
       "        features: ['article', 'highlights', 'id'],\n",
       "        num_rows: 8614\n",
       "    })\n",
       "})"
      ]
     },
     "execution_count": 4,
     "metadata": {},
     "output_type": "execute_result"
    }
   ],
   "source": [
    "dataset_T5Med"
   ]
  },
  {
   "cell_type": "code",
   "execution_count": 13,
   "id": "a6101de9-6954-499a-8819-712891813201",
   "metadata": {},
   "outputs": [],
   "source": [
    "batch_size = 8\n",
    "learning_rate = 4e-6\n",
    "weight_decay = 0.01\n",
    "epochs = 10"
   ]
  },
  {
   "cell_type": "code",
   "execution_count": 6,
   "id": "51c2e4b7-20f3-4bc8-a158-cd4dfb038e75",
   "metadata": {},
   "outputs": [],
   "source": [
    "def train_validate_dataset(model, tokenized_ds, data_collator, batch_size=batch_size):\n",
    "    train_dataset = model.prepare_tf_dataset(\n",
    "        tokenized_ds[\"train\"],\n",
    "        batch_size=batch_size,\n",
    "        shuffle=True,\n",
    "        collate_fn=data_collator,\n",
    "    )\n",
    "\n",
    "    validation_dataset = model.prepare_tf_dataset(\n",
    "        tokenized_ds[\"test\"],\n",
    "        batch_size=batch_size,\n",
    "        shuffle=False,\n",
    "        collate_fn=data_collator,\n",
    "    )\n",
    "    return train_dataset, validation_dataset"
   ]
  },
  {
   "cell_type": "code",
   "execution_count": 7,
   "id": "c11aa559-3a64-4f80-b61e-264085f806c7",
   "metadata": {},
   "outputs": [],
   "source": [
    "tokenizerT5Medium = AutoTokenizer.from_pretrained('t5-base', model_max_length=512)"
   ]
  },
  {
   "cell_type": "code",
   "execution_count": 8,
   "id": "cd633103-fa9e-4dde-aa00-4b109a4e0f5c",
   "metadata": {},
   "outputs": [],
   "source": [
    "max_input_length = 512\n",
    "max_target_length = 128\n",
    "\n",
    "def preprocess_function_T5Medium(examples):\n",
    "    with tf.device(\"CPU\"):\n",
    "        inputs = [\"summarize: \" + doc for doc in examples[\"article\"]]\n",
    "        model_inputs = tokenizerT5Medium(inputs, max_length=max_input_length, truncation=True)\n",
    "\n",
    "        # Target\n",
    "        targets = tokenizerT5Medium(examples[\"highlights\"], max_length=max_target_length, truncation=True)\n",
    "\n",
    "        model_inputs[\"labels\"] = targets[\"input_ids\"]\n",
    "        return model_inputs"
   ]
  },
  {
   "cell_type": "code",
   "execution_count": 9,
   "id": "b88b030d-05fc-4c09-bb5b-327964de7650",
   "metadata": {},
   "outputs": [
    {
     "data": {
      "application/vnd.jupyter.widget-view+json": {
       "model_id": "1ceb961a723c496fae61648a5aafb3b4",
       "version_major": 2,
       "version_minor": 0
      },
      "text/plain": [
       "Map:   0%|          | 0/34453 [00:00<?, ? examples/s]"
      ]
     },
     "metadata": {},
     "output_type": "display_data"
    },
    {
     "data": {
      "application/vnd.jupyter.widget-view+json": {
       "model_id": "dabb40870ab846378a3e5e7fd51d2284",
       "version_major": 2,
       "version_minor": 0
      },
      "text/plain": [
       "Map:   0%|          | 0/8614 [00:00<?, ? examples/s]"
      ]
     },
     "metadata": {},
     "output_type": "display_data"
    }
   ],
   "source": [
    "tokenized_ds_T5Medium = dataset_T5Med.map(preprocess_function_T5Medium, batched=True)"
   ]
  },
  {
   "cell_type": "code",
   "execution_count": 10,
   "id": "efbd1dd8-2539-4a49-9152-aa748c876f57",
   "metadata": {},
   "outputs": [
    {
     "name": "stderr",
     "output_type": "stream",
     "text": [
      "All PyTorch model weights were used when initializing TFT5ForConditionalGeneration.\n",
      "\n",
      "All the weights of TFT5ForConditionalGeneration were initialized from the PyTorch model.\n",
      "If your task is similar to the task the model of the checkpoint was trained on, you can already use TFT5ForConditionalGeneration for predictions without further training.\n"
     ]
    }
   ],
   "source": [
    "modelT5Medium = TFAutoModelForSeq2SeqLM.from_pretrained('t5-base')"
   ]
  },
  {
   "cell_type": "code",
   "execution_count": 11,
   "id": "98670e2a-695c-4d3f-bd1d-ad9a7a822fd6",
   "metadata": {},
   "outputs": [],
   "source": [
    "data_collator_T5Medium = DataCollatorForSeq2Seq(tokenizerT5Medium, model=modelT5Medium, return_tensors=\"np\")"
   ]
  },
  {
   "cell_type": "code",
   "execution_count": 12,
   "id": "777d9ae5-565b-4c03-86fb-a1ce6415379c",
   "metadata": {},
   "outputs": [
    {
     "name": "stderr",
     "output_type": "stream",
     "text": [
      "You're using a T5TokenizerFast tokenizer. Please note that with a fast tokenizer, using the `__call__` method is faster than using a method to encode the text followed by a call to the `pad` method to get a padded encoding.\n"
     ]
    }
   ],
   "source": [
    "train_dataset_T5Medium, validation_dataset_T5Medium = train_validate_dataset(modelT5Medium, tokenized_ds_T5Medium, \n",
    "                                                                             data_collator_T5Medium)"
   ]
  },
  {
   "cell_type": "code",
   "execution_count": 14,
   "id": "19311e75-6de9-4502-8167-96cf7fcf7a12",
   "metadata": {},
   "outputs": [],
   "source": [
    "optimizer = AdamWeightDecay(learning_rate=learning_rate, weight_decay_rate=weight_decay)\n",
    "modelT5Medium.compile(optimizer=optimizer,\n",
    "                     metrics=['accuracy'])"
   ]
  },
  {
   "cell_type": "code",
   "execution_count": 15,
   "id": "0fe99c92-b8db-48c8-90d6-58fa59e51371",
   "metadata": {},
   "outputs": [
    {
     "name": "stdout",
     "output_type": "stream",
     "text": [
      "Epoch 1/10\n",
      "4306/4306 [==============================] - 1714s 393ms/step - loss: 1.6408 - accuracy: 0.4965 - val_loss: 1.3946 - val_accuracy: 0.5262\n",
      "Epoch 2/10\n",
      "4306/4306 [==============================] - 1690s 392ms/step - loss: 1.5921 - accuracy: 0.5002 - val_loss: 1.3832 - val_accuracy: 0.5276\n",
      "Epoch 3/10\n",
      "4306/4306 [==============================] - 1690s 393ms/step - loss: 1.5744 - accuracy: 0.5024 - val_loss: 1.3787 - val_accuracy: 0.5283\n",
      "Epoch 4/10\n",
      "4306/4306 [==============================] - 1690s 392ms/step - loss: 1.5600 - accuracy: 0.5041 - val_loss: 1.3746 - val_accuracy: 0.5288\n",
      "Epoch 5/10\n",
      "4306/4306 [==============================] - 1691s 393ms/step - loss: 1.5493 - accuracy: 0.5056 - val_loss: 1.3717 - val_accuracy: 0.5292\n",
      "Epoch 6/10\n",
      "4306/4306 [==============================] - 1690s 393ms/step - loss: 1.5391 - accuracy: 0.5066 - val_loss: 1.3701 - val_accuracy: 0.5294\n",
      "Epoch 7/10\n",
      "4306/4306 [==============================] - 1690s 393ms/step - loss: 1.5286 - accuracy: 0.5083 - val_loss: 1.3684 - val_accuracy: 0.5297\n",
      "Epoch 8/10\n",
      "4306/4306 [==============================] - 1690s 392ms/step - loss: 1.5191 - accuracy: 0.5096 - val_loss: 1.3662 - val_accuracy: 0.5299\n",
      "Epoch 9/10\n",
      "4306/4306 [==============================] - 1691s 393ms/step - loss: 1.5110 - accuracy: 0.5102 - val_loss: 1.3650 - val_accuracy: 0.5300\n",
      "Epoch 10/10\n",
      "4306/4306 [==============================] - 1690s 392ms/step - loss: 1.5033 - accuracy: 0.5115 - val_loss: 1.3635 - val_accuracy: 0.5302\n"
     ]
    }
   ],
   "source": [
    "history = modelT5Medium.fit(\n",
    "            train_dataset_T5Medium, validation_data=validation_dataset_T5Medium, \n",
    "            epochs=epochs, callbacks=callbacks, batch_size=batch_size\n",
    "          )"
   ]
  },
  {
   "cell_type": "code",
   "execution_count": null,
   "id": "c4e50d8a-a628-400f-ad96-d155a87168d5",
   "metadata": {},
   "outputs": [
    {
     "data": {
      "image/png": "[encoded data removed]",
      "text/plain": [
       "<Figure size 432x288 with 1 Axes>"
      ]
     },
     "metadata": {
      "needs_background": "light"
     },
     "output_type": "display_data"
    }
   ],
   "source": [
    "plt.plot(history.history['accuracy'])\n",
    "plt.plot(history.history['val_accuracy'])\n",
    "plt.title('model accuracy')\n",
    "plt.ylabel('accuracy')\n",
    "plt.xlabel('epoch')\n",
    "plt.legend(['train', 'val'], loc='upper left')\n",
    "plt.show()"
   ]
  },
  {
   "cell_type": "code",
   "execution_count": null,
   "id": "5ea35c81-8d87-45be-a5ef-63dae144aa2d",
   "metadata": {},
   "outputs": [
    {
     "data": {
      "image/png": "[encoded data removed]",
      "text/plain": [
       "<Figure size 432x288 with 1 Axes>"
      ]
     },
     "metadata": {
      "needs_background": "light"
     },
     "output_type": "display_data"
    }
   ],
   "source": [
    "plt.plot(history.history['loss'])\n",
    "plt.plot(history.history['val_loss'])\n",
    "plt.title('model loss')\n",
    "plt.ylabel('loss')\n",
    "plt.xlabel('epoch')\n",
    "plt.legend(['train', 'val'], loc='upper left')\n",
    "plt.show()"
   ]
  },
  {
   "cell_type": "code",
   "execution_count": null,
   "id": "4f203c55-0177-48b9-97b0-c92934dfa00f",
   "metadata": {},
   "outputs": [],
   "source": [
    "def generate_preds(tokenizer, model):\n",
    "    evaluate = []\n",
    "    for element in dataset_test['article']:\n",
    "        tokenized = tokenizer([element], return_tensors='np')\n",
    "        pred = model.generate(**tokenized, max_length=128)\n",
    "        pred = pred.numpy()\n",
    "        with tf.device(\"CPU\"):\n",
    "            evaluate.append(pred)\n",
    "    pred = []\n",
    "    for article in evaluate:\n",
    "        new_article = tokenizer.decode(article[0], skip_special_tokens=True)\n",
    "        with tf.device(\"CPU\"):\n",
    "            pred.append(new_article)\n",
    "    return pred"
   ]
  },
  {
   "cell_type": "code",
   "execution_count": null,
   "id": "179a9be5-f05d-44b6-9347-c44ed0f63ed9",
   "metadata": {},
   "outputs": [],
   "source": [
    "def actual_preds(dataset):\n",
    "    actual = []\n",
    "    for summary in dataset['highlights']:\n",
    "        with tf.device(\"CPU\"):\n",
    "            actual.append(summary)\n",
    "    return actual"
   ]
  },
  {
   "cell_type": "code",
   "execution_count": null,
   "id": "586a8266-a199-41b8-a6c3-f64961ecccf5",
   "metadata": {},
   "outputs": [
    {
     "name": "stderr",
     "output_type": "stream",
     "text": [
      "Token indices sequence length is longer than the specified maximum sequence length for this model (787 > 512). Running this sequence through the model will result in indexing errors\n"
     ]
    }
   ],
   "source": [
    "pred_T5Medium = generate_preds(tokenizerT5Medium, modelT5Medium)"
   ]
  },
  {
   "cell_type": "code",
   "execution_count": null,
   "id": "4b01ae1b-5460-48af-af60-fec74ba2e66c",
   "metadata": {},
   "outputs": [],
   "source": [
    "actual_T5Medium = actual_preds(dataset_test)"
   ]
  },
  {
   "cell_type": "code",
   "execution_count": null,
   "id": "47571c95-381c-45ca-bb3c-827545dc54eb",
   "metadata": {},
   "outputs": [],
   "source": [
    "def get_rouge_scores(actual_summary, predicted_summary):\n",
    "    rouge = Rouge()\n",
    "    try: \n",
    "        if (len(actual_summary) == len(predicted_summary)):\n",
    "            pass\n",
    "    except Exception as e:\n",
    "        print(f\"lengths of actual and predictions don't match: {e}\")\n",
    "    score_total1 = 0\n",
    "    score_total2 = 0\n",
    "    score_totalL = 0\n",
    "    for i in range(0, len(actual_summary)):\n",
    "        scores = rouge.get_scores(predicted_summary[i], actual_summary[i])\n",
    "        \n",
    "        score_total1 += scores[0]['rouge-1']['f']\n",
    "        score_total2 += scores[0]['rouge-2']['f']\n",
    "        score_totalL += scores[0]['rouge-l']['f']\n",
    "    return score_total1 / len(actual_summary), score_total2 / len(actual_summary), score_totalL / len(actual_summary)"
   ]
  },
  {
   "cell_type": "code",
   "execution_count": null,
   "id": "afbfe984-09be-44eb-9aa3-8372b57ab78e",
   "metadata": {},
   "outputs": [],
   "source": [
    "rouge1T5Medium, rouge2T5Medium, rougelT5Medium = get_rouge_scores(actual_T5Medium,pred_T5Medium)"
   ]
  },
  {
   "cell_type": "code",
   "execution_count": 25,
   "id": "ff7a6d94-bf13-4515-baea-06e1d22b71ad",
   "metadata": {},
   "outputs": [
    {
     "name": "stdout",
     "output_type": "stream",
     "text": [
      "0.3094 0.114 0.2919\n"
     ]
    }
   ],
   "source": [
    "print(round(rouge1T5Medium, 4), round(rouge2T5Medium, 4), round(rougelT5Medium, 4))"
   ]
  },
  {
   "cell_type": "code",
   "execution_count": null,
   "id": "5e299832-bfee-465b-b9c6-47665d5b8dc0",
   "metadata": {},
   "outputs": [],
   "source": []
  }
 ],
 "metadata": {
  "kernelspec": {
   "display_name": "Python 3 (ipykernel)",
   "language": "python",
   "name": "python3"
  },
  "language_info": {
   "codemirror_mode": {
    "name": "ipython",
    "version": 3
   },
   "file_extension": ".py",
   "mimetype": "text/x-python",
   "name": "python",
   "nbconvert_exporter": "python",
   "pygments_lexer": "ipython3",
   "version": "3.9.18"
  }
 },
 "nbformat": 4,
 "nbformat_minor": 5
}
