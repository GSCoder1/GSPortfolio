{
 "cells": [
  {
   "cell_type": "code",
   "execution_count": 16,
   "id": "6971855f-ff6e-47e0-bc4d-75ab7e4e8833",
   "metadata": {},
   "outputs": [],
   "source": [
    "import numpy as np\n",
    "import tensorflow as tf\n",
    "import keras\n",
    "\n",
    "from matplotlib import pyplot as plt\n",
    "from sklearn.model_selection import train_test_split\n",
    "\n",
    "from tqdm.auto import tqdm\n",
    "from transformers import AdamWeightDecay\n",
    "from transformers import AutoTokenizer\n",
    "from transformers import TFAutoModelForSeq2SeqLM, DataCollatorForSeq2Seq\n",
    "from datasets import load_dataset\n",
    "\n",
    "from rouge import Rouge\n",
    "\n",
    "from tensorflow.keras.callbacks import TensorBoard\n",
    "from tensorboard import notebook\n",
    "\n",
    "from tqdm.auto import tqdm"
   ]
  },
  {
   "cell_type": "code",
   "execution_count": 2,
   "id": "597811d6-da71-492e-a748-2b3eddb71b65",
   "metadata": {},
   "outputs": [],
   "source": [
    "dataset_T5Med = load_dataset('cnn_dailymail', '3.0.0', split='train[:10%]')\n",
    "dataset_test = load_dataset('cnn_dailymail', '3.0.0', split='test[0:100]')"
   ]
  },
  {
   "cell_type": "code",
   "execution_count": 3,
   "id": "3dd63300-850b-46f6-aae2-dd97952283be",
   "metadata": {},
   "outputs": [],
   "source": [
    "dataset_T5Med = dataset_T5Med.train_test_split(test_size=0.2)"
   ]
  },
  {
   "cell_type": "code",
   "execution_count": 4,
   "id": "dd2abb9a-6081-4322-85b2-3b4010ad0050",
   "metadata": {},
   "outputs": [
    {
     "data": {
      "text/plain": [
       "DatasetDict({\n",
       "    train: Dataset({\n",
       "        features: ['article', 'highlights', 'id'],\n",
       "        num_rows: 22968\n",
       "    })\n",
       "    test: Dataset({\n",
       "        features: ['article', 'highlights', 'id'],\n",
       "        num_rows: 5743\n",
       "    })\n",
       "})"
      ]
     },
     "execution_count": 4,
     "metadata": {},
     "output_type": "execute_result"
    }
   ],
   "source": [
    "dataset_T5Med"
   ]
  },
  {
   "cell_type": "code",
   "execution_count": 5,
   "id": "80826d0d-87d2-4fef-a893-1bd024a17b5a",
   "metadata": {},
   "outputs": [],
   "source": [
    "batch_size = 8\n",
    "learning_rate = 4e-6\n",
    "weight_decay = 0.01\n",
    "epochs = 3"
   ]
  },
  {
   "cell_type": "code",
   "execution_count": 6,
   "id": "31fc7904-9cf0-47b6-88ca-92d3c9088d78",
   "metadata": {},
   "outputs": [],
   "source": [
    "def train_validate_dataset(model, tokenized_ds, data_collator, batch_size=batch_size):\n",
    "    train_dataset = model.prepare_tf_dataset(\n",
    "        tokenized_ds[\"train\"],\n",
    "        batch_size=batch_size,\n",
    "        shuffle=True,\n",
    "        collate_fn=data_collator,\n",
    "    )\n",
    "\n",
    "    validation_dataset = model.prepare_tf_dataset(\n",
    "        tokenized_ds[\"test\"],\n",
    "        batch_size=batch_size,\n",
    "        shuffle=False,\n",
    "        collate_fn=data_collator,\n",
    "    )\n",
    "    return train_dataset, validation_dataset"
   ]
  },
  {
   "cell_type": "code",
   "execution_count": 7,
   "id": "50bd8493-503c-4d15-a379-14e932b0db3f",
   "metadata": {},
   "outputs": [],
   "source": [
    "tokenizerT5Medium = AutoTokenizer.from_pretrained('t5-base', model_max_length=512)"
   ]
  },
  {
   "cell_type": "code",
   "execution_count": 8,
   "id": "bd31c478-dfdb-415a-9d39-9f8f9998fd7d",
   "metadata": {},
   "outputs": [],
   "source": [
    "max_input_length = 512\n",
    "max_target_length = 128\n",
    "\n",
    "def preprocess_function_T5Medium(examples):\n",
    "    with tf.device(\"CPU\"):\n",
    "        inputs = [\"summarize: \" + doc for doc in examples[\"article\"]]\n",
    "        model_inputs = tokenizerT5Medium(inputs, max_length=max_input_length, truncation=True)\n",
    "\n",
    "        # Target\n",
    "        targets = tokenizerT5Medium(examples[\"highlights\"], max_length=max_target_length, truncation=True)\n",
    "\n",
    "        model_inputs[\"labels\"] = targets[\"input_ids\"]\n",
    "        return model_inputs"
   ]
  },
  {
   "cell_type": "code",
   "execution_count": 9,
   "id": "fe0ca181-1acb-470d-b58c-5574cc41854b",
   "metadata": {},
   "outputs": [
    {
     "data": {
      "application/vnd.jupyter.widget-view+json": {
       "model_id": "1c127c79cf7c403d93229b65ecf4f164",
       "version_major": 2,
       "version_minor": 0
      },
      "text/plain": [
       "Map:   0%|          | 0/22968 [00:00<?, ? examples/s]"
      ]
     },
     "metadata": {},
     "output_type": "display_data"
    },
    {
     "data": {
      "application/vnd.jupyter.widget-view+json": {
       "model_id": "2c50eb9249fb468cae5b125539fa3028",
       "version_major": 2,
       "version_minor": 0
      },
      "text/plain": [
       "Map:   0%|          | 0/5743 [00:00<?, ? examples/s]"
      ]
     },
     "metadata": {},
     "output_type": "display_data"
    }
   ],
   "source": [
    "tokenized_ds_T5Medium = dataset_T5Med.map(preprocess_function_T5Medium, batched=True)"
   ]
  },
  {
   "cell_type": "code",
   "execution_count": 10,
   "id": "abdb8116-6579-4346-a9d7-a4b611aae375",
   "metadata": {},
   "outputs": [
    {
     "name": "stderr",
     "output_type": "stream",
     "text": [
      "All PyTorch model weights were used when initializing TFT5ForConditionalGeneration.\n",
      "\n",
      "All the weights of TFT5ForConditionalGeneration were initialized from the PyTorch model.\n",
      "If your task is similar to the task the model of the checkpoint was trained on, you can already use TFT5ForConditionalGeneration for predictions without further training.\n"
     ]
    }
   ],
   "source": [
    "modelT5Medium = TFAutoModelForSeq2SeqLM.from_pretrained('t5-base')"
   ]
  },
  {
   "cell_type": "code",
   "execution_count": 11,
   "id": "161b1174-8e2b-4a2d-9e8c-0a65edcc4846",
   "metadata": {},
   "outputs": [],
   "source": [
    "data_collator_T5Medium = DataCollatorForSeq2Seq(tokenizerT5Medium, model=modelT5Medium, return_tensors=\"np\")"
   ]
  },
  {
   "cell_type": "code",
   "execution_count": 12,
   "id": "cf288f97-c2e4-46fb-83cd-31d9aba786c9",
   "metadata": {},
   "outputs": [
    {
     "name": "stderr",
     "output_type": "stream",
     "text": [
      "You're using a T5TokenizerFast tokenizer. Please note that with a fast tokenizer, using the `__call__` method is faster than using a method to encode the text followed by a call to the `pad` method to get a padded encoding.\n"
     ]
    }
   ],
   "source": [
    "train_dataset_T5Medium, validation_dataset_T5Medium = train_validate_dataset(modelT5Medium, tokenized_ds_T5Medium, \n",
    "                                                                             data_collator_T5Medium)"
   ]
  },
  {
   "cell_type": "code",
   "execution_count": 13,
   "id": "f98b5e33-57fc-4752-9733-d29a4aa3e92e",
   "metadata": {},
   "outputs": [],
   "source": [
    "optimizer = AdamWeightDecay(learning_rate=learning_rate, weight_decay_rate=weight_decay)\n",
    "modelT5Medium.compile(optimizer=optimizer,\n",
    "                     metrics=['accuracy'])"
   ]
  },
  {
   "cell_type": "code",
   "execution_count": 14,
   "id": "f068e1f7-8204-4c54-b05e-b0a390b5ef15",
   "metadata": {},
   "outputs": [
    {
     "name": "stdout",
     "output_type": "stream",
     "text": [
      "Epoch 1/3\n",
      "2871/2871 [==============================] - 1148s 392ms/step - loss: 1.6178 - accuracy: 0.5000 - val_loss: 1.3570 - val_accuracy: 0.5311\n",
      "Epoch 2/3\n",
      "2871/2871 [==============================] - 1124s 391ms/step - loss: 1.5602 - accuracy: 0.5054 - val_loss: 1.3459 - val_accuracy: 0.5326\n",
      "Epoch 3/3\n",
      "2871/2871 [==============================] - 1123s 391ms/step - loss: 1.5424 - accuracy: 0.5089 - val_loss: 1.3398 - val_accuracy: 0.5335\n"
     ]
    }
   ],
   "source": [
    "tensorboard_callback_T5Medium = TensorBoard(log_dir=\"./summarization_modelT5Medium_save/logs\")\n",
    "\n",
    "callbacks = [tensorboard_callback_T5Medium]\n",
    "\n",
    "history = modelT5Medium.fit(\n",
    "            train_dataset_T5Medium, validation_data=validation_dataset_T5Medium, \n",
    "            epochs=epochs, callbacks=callbacks, batch_size=batch_size\n",
    "          )\n",
    "\n",
    "#notebook.display(port=6006, height=1000)"
   ]
  },
  {
   "cell_type": "code",
   "execution_count": 15,
   "id": "a271391c-695b-4c83-af0d-752c4c0d5209",
   "metadata": {},
   "outputs": [
    {
     "data": {
      "text/plain": [
       "8"
      ]
     },
     "execution_count": 15,
     "metadata": {},
     "output_type": "execute_result"
    }
   ],
   "source": [
    "batch_size"
   ]
  },
  {
   "cell_type": "code",
   "execution_count": 19,
   "id": "ae630af6-1847-42d3-bb43-6aea16375d2f",
   "metadata": {},
   "outputs": [],
   "source": [
    "def generate_preds(tokenizer, model):\n",
    "    evaluate = []\n",
    "    for element in dataset_test['article']:\n",
    "        tokenized = tokenizer([element], return_tensors='np')\n",
    "        pred = model.generate(**tokenized, max_length=128)\n",
    "        pred = pred.numpy()\n",
    "        with tf.device(\"CPU\"):\n",
    "            evaluate.append(pred)\n",
    "    pred = []\n",
    "    for article in evaluate:\n",
    "        new_article = tokenizer.decode(article[0], skip_special_tokens=True)\n",
    "        with tf.device(\"CPU\"):\n",
    "            pred.append(new_article)\n",
    "    return pred"
   ]
  },
  {
   "cell_type": "code",
   "execution_count": 20,
   "id": "a7310c09-f06c-4ee4-93e1-648f424ce5cb",
   "metadata": {},
   "outputs": [],
   "source": [
    "def actual_preds(dataset):\n",
    "    actual = []\n",
    "    for summary in dataset['highlights']:\n",
    "        with tf.device(\"CPU\"):\n",
    "            actual.append(summary)\n",
    "    return actual"
   ]
  },
  {
   "cell_type": "code",
   "execution_count": 21,
   "id": "21817514-9d9a-4677-9da5-7de0ace0de02",
   "metadata": {},
   "outputs": [
    {
     "name": "stderr",
     "output_type": "stream",
     "text": [
      "Token indices sequence length is longer than the specified maximum sequence length for this model (787 > 512). Running this sequence through the model will result in indexing errors\n"
     ]
    }
   ],
   "source": [
    "pred_T5Medium = generate_preds(tokenizerT5Medium, modelT5Medium)"
   ]
  },
  {
   "cell_type": "code",
   "execution_count": null,
   "id": "8c1ccd3f-c7b7-4e2c-96e7-e249e50293bf",
   "metadata": {},
   "outputs": [],
   "source": [
    "actual_T5Medium = actual_preds(dataset_test)"
   ]
  },
  {
   "cell_type": "code",
   "execution_count": null,
   "id": "90d7003f-292a-4565-8784-fa3ef9f66862",
   "metadata": {},
   "outputs": [],
   "source": [
    "def get_rouge_scores(actual_summary, predicted_summary):\n",
    "    rouge = Rouge()\n",
    "    try: \n",
    "        if (len(actual_summary) == len(predicted_summary)):\n",
    "            pass\n",
    "    except Exception as e:\n",
    "        print(f\"lengths of actual and predictions don't match: {e}\")\n",
    "    score_total1 = 0\n",
    "    score_total2 = 0\n",
    "    score_totalL = 0\n",
    "    for i in range(0, len(actual_summary)):\n",
    "        scores = rouge.get_scores(predicted_summary[i], actual_summary[i])\n",
    "        \n",
    "        score_total1 += scores[0]['rouge-1']['f']\n",
    "        score_total2 += scores[0]['rouge-2']['f']\n",
    "        score_totalL += scores[0]['rouge-l']['f']\n",
    "    return score_total1 / len(actual_summary), score_total2 / len(actual_summary), score_totalL / len(actual_summary)"
   ]
  },
  {
   "cell_type": "code",
   "execution_count": null,
   "id": "7c23744c-2ea6-4965-821d-4b252b239e83",
   "metadata": {},
   "outputs": [],
   "source": [
    "rouge1T5Medium, rouge2T5Medium, rougelT5Medium = get_rouge_scores(actual_T5Medium,pred_T5Medium)"
   ]
  },
  {
   "cell_type": "code",
   "execution_count": 33,
   "id": "a1d3bc3a-8465-4401-b5ea-fcf4117086f8",
   "metadata": {},
   "outputs": [
    {
     "name": "stdout",
     "output_type": "stream",
     "text": [
      "0.2994 0.1064 0.2789\n"
     ]
    }
   ],
   "source": [
    "print(round(rouge1T5Medium, 4), round(rouge2T5Medium, 4), round(rougelT5Medium, 4))"
   ]
  },
  {
   "cell_type": "code",
   "execution_count": 27,
   "id": "a24f4c94-a6d5-46c9-978a-d466902e4198",
   "metadata": {},
   "outputs": [
    {
     "data": {
      "image/png": "[encoded data removed]",
      "text/plain": [
       "<Figure size 432x288 with 1 Axes>"
      ]
     },
     "metadata": {
      "needs_background": "light"
     },
     "output_type": "display_data"
    }
   ],
   "source": [
    "plt.plot(history.history['accuracy'])\n",
    "plt.plot(history.history['val_accuracy'])\n",
    "plt.title('model accuracy')\n",
    "plt.ylabel('accuracy')\n",
    "plt.xlabel('epoch')\n",
    "plt.legend(['train', 'val'], loc='upper left')\n",
    "plt.show()"
   ]
  },
  {
   "cell_type": "code",
   "execution_count": 28,
   "id": "75ce1031-e669-43c8-a43b-a93cff29771b",
   "metadata": {},
   "outputs": [
    {
     "data": {
      "image/png": "[encoded data removed]",
      "text/plain": [
       "<Figure size 432x288 with 1 Axes>"
      ]
     },
     "metadata": {
      "needs_background": "light"
     },
     "output_type": "display_data"
    }
   ],
   "source": [
    "plt.plot(history.history['loss'])\n",
    "plt.plot(history.history['val_loss'])\n",
    "plt.title('model loss')\n",
    "plt.ylabel('loss')\n",
    "plt.xlabel('epoch')\n",
    "plt.legend(['train', 'val'], loc='upper left')\n",
    "plt.show()"
   ]
  },
  {
   "cell_type": "code",
   "execution_count": null,
   "id": "81d63300-31e4-4677-8502-60622aebbd38",
   "metadata": {},
   "outputs": [],
   "source": []
  }
 ],
 "metadata": {
  "kernelspec": {
   "display_name": "Python 3 (ipykernel)",
   "language": "python",
   "name": "python3"
  },
  "language_info": {
   "codemirror_mode": {
    "name": "ipython",
    "version": 3
   },
   "file_extension": ".py",
   "mimetype": "text/x-python",
   "name": "python",
   "nbconvert_exporter": "python",
   "pygments_lexer": "ipython3",
   "version": "3.9.18"
  }
 },
 "nbformat": 4,
 "nbformat_minor": 5
}
