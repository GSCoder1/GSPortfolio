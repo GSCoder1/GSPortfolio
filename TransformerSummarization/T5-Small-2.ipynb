{
 "cells": [
  {
   "cell_type": "code",
   "execution_count": 1,
   "id": "b9e0c80a-eaae-47c6-8c44-5884f375f744",
   "metadata": {},
   "outputs": [
    {
     "name": "stderr",
     "output_type": "stream",
     "text": [
      "/home/ubuntu/.local/lib/python3.8/site-packages/pandas/core/computation/expressions.py:20: UserWarning: Pandas requires version '2.7.3' or newer of 'numexpr' (version '2.7.1' currently installed).\n",
      "  from pandas.core.computation.check import NUMEXPR_INSTALLED\n"
     ]
    }
   ],
   "source": [
    "import numpy as np\n",
    "import tensorflow as tf\n",
    "import keras\n",
    "\n",
    "from matplotlib import pyplot as plt\n",
    "from sklearn.model_selection import train_test_split\n",
    "\n",
    "from tqdm.auto import tqdm\n",
    "from transformers import AdamWeightDecay\n",
    "from transformers import AutoTokenizer\n",
    "from transformers import TFAutoModelForSeq2SeqLM, DataCollatorForSeq2Seq\n",
    "from datasets import load_dataset\n",
    "\n",
    "from rouge import Rouge\n",
    "\n",
    "from tensorflow.keras.callbacks import TensorBoard\n",
    "from tensorboard import notebook\n",
    "\n",
    "from tqdm.auto import tqdm"
   ]
  },
  {
   "cell_type": "code",
   "execution_count": 2,
   "id": "06f43b99-a532-4f89-b8d8-1fb530b1f9a8",
   "metadata": {},
   "outputs": [],
   "source": [
    "dataset = load_dataset('cnn_dailymail', '3.0.0', split='train[:25%]')\n",
    "dataset_test = load_dataset('cnn_dailymail', '3.0.0', split='test[0:100]')"
   ]
  },
  {
   "cell_type": "code",
   "execution_count": 3,
   "id": "2b2ecd52-b01c-4637-8958-096409122411",
   "metadata": {},
   "outputs": [],
   "source": [
    "dataset = dataset.train_test_split(test_size=0.2)"
   ]
  },
  {
   "cell_type": "code",
   "execution_count": 4,
   "id": "e65b9542-872b-4c9a-9b4f-b7c288c3fe38",
   "metadata": {},
   "outputs": [],
   "source": [
    "batch_size = 32\n",
    "learning_rate = 1e-5\n",
    "weight_decay = 0.01\n",
    "epochs = 3"
   ]
  },
  {
   "cell_type": "code",
   "execution_count": 5,
   "id": "7c4e6e87-ea80-4ae8-8d2e-b6744e5b6467",
   "metadata": {},
   "outputs": [],
   "source": [
    "tokenizerT5Small = AutoTokenizer.from_pretrained('t5-small')"
   ]
  },
  {
   "cell_type": "code",
   "execution_count": 6,
   "id": "b9c403dc-6c40-4307-a439-ec054ec7fe73",
   "metadata": {},
   "outputs": [],
   "source": [
    "max_input_length = 512\n",
    "max_target_length = 128\n",
    "\n",
    "\n",
    "def preprocess_function_T5Small(examples):\n",
    "    inputs = [\"summarize: \" + doc for doc in examples[\"article\"]]\n",
    "    model_inputs = tokenizerT5Small(inputs, max_length=max_input_length, truncation=True)\n",
    "\n",
    "    # Target\n",
    "    targets = tokenizerT5Small(examples[\"highlights\"], max_length=max_target_length, truncation=True)\n",
    "\n",
    "    model_inputs[\"labels\"] = targets[\"input_ids\"]\n",
    "    return model_inputs"
   ]
  },
  {
   "cell_type": "code",
   "execution_count": 7,
   "id": "a3bbb59b-eb48-4e14-be57-bebbc50d745e",
   "metadata": {},
   "outputs": [],
   "source": [
    "def train_validate_dataset(model, tokenized_ds, data_collator, batch_size=batch_size):\n",
    "    with tf.device(\"CPU\"):\n",
    "        #data_collator = DataCollatorForSeq2Seq(tokenized_ds, model=model, return_tensors=\"np\")\n",
    "        \n",
    "        train_dataset = model.prepare_tf_dataset(\n",
    "            tokenized_ds[\"train\"],\n",
    "            batch_size=batch_size,\n",
    "            shuffle=True,\n",
    "            collate_fn=data_collator,\n",
    "        )\n",
    "\n",
    "        validation_dataset = model.prepare_tf_dataset(\n",
    "            tokenized_ds[\"test\"],\n",
    "            batch_size=batch_size,\n",
    "            shuffle=False,\n",
    "            collate_fn=data_collator,\n",
    "        )\n",
    "    return train_dataset, validation_dataset"
   ]
  },
  {
   "cell_type": "code",
   "execution_count": 8,
   "id": "f2cf85cf-deb4-4a5f-8979-dbe9cf3287a9",
   "metadata": {},
   "outputs": [
    {
     "data": {
      "application/vnd.jupyter.widget-view+json": {
       "model_id": "77c4f74494f841feb6570e2b9ed2df3b",
       "version_major": 2,
       "version_minor": 0
      },
      "text/plain": [
       "Map:   0%|          | 0/57422 [00:00<?, ? examples/s]"
      ]
     },
     "metadata": {},
     "output_type": "display_data"
    },
    {
     "data": {
      "application/vnd.jupyter.widget-view+json": {
       "model_id": "1bf4e0c9cb4f42669d579a516f7bbf63",
       "version_major": 2,
       "version_minor": 0
      },
      "text/plain": [
       "Map:   0%|          | 0/14356 [00:00<?, ? examples/s]"
      ]
     },
     "metadata": {},
     "output_type": "display_data"
    }
   ],
   "source": [
    "tokenized_ds_T5Small = dataset.map(preprocess_function_T5Small, batched=True)"
   ]
  },
  {
   "cell_type": "code",
   "execution_count": 9,
   "id": "cd32a689-9669-471a-8663-3b78bdac46fb",
   "metadata": {},
   "outputs": [
    {
     "name": "stderr",
     "output_type": "stream",
     "text": [
      "All PyTorch model weights were used when initializing TFT5ForConditionalGeneration.\n",
      "\n",
      "All the weights of TFT5ForConditionalGeneration were initialized from the PyTorch model.\n",
      "If your task is similar to the task the model of the checkpoint was trained on, you can already use TFT5ForConditionalGeneration for predictions without further training.\n"
     ]
    }
   ],
   "source": [
    "modelT5Small = TFAutoModelForSeq2SeqLM.from_pretrained('t5-small')"
   ]
  },
  {
   "cell_type": "code",
   "execution_count": 10,
   "id": "dc0d7e86-8296-41df-b956-4ba3c0e76fb5",
   "metadata": {},
   "outputs": [],
   "source": [
    "data_collator_T5Small = DataCollatorForSeq2Seq(tokenizerT5Small, model=modelT5Small, return_tensors=\"np\")"
   ]
  },
  {
   "cell_type": "code",
   "execution_count": 11,
   "id": "9b2ebe1b-6de6-4ef2-88ac-6bdcd3e7d8f5",
   "metadata": {},
   "outputs": [
    {
     "name": "stderr",
     "output_type": "stream",
     "text": [
      "You're using a T5TokenizerFast tokenizer. Please note that with a fast tokenizer, using the `__call__` method is faster than using a method to encode the text followed by a call to the `pad` method to get a padded encoding.\n"
     ]
    }
   ],
   "source": [
    "train_dataset_T5Small, validation_dataset_T5Small = train_validate_dataset(modelT5Small, tokenized_ds_T5Small, data_collator_T5Small)"
   ]
  },
  {
   "cell_type": "code",
   "execution_count": 14,
   "id": "733a1d02-57ed-4bca-b4d2-fb890204c6a3",
   "metadata": {},
   "outputs": [],
   "source": [
    "optimizer = AdamWeightDecay(learning_rate=learning_rate, weight_decay_rate=weight_decay)\n",
    "modelT5Small.compile(optimizer=optimizer,\n",
    "                     metrics=['accuracy'])"
   ]
  },
  {
   "cell_type": "code",
   "execution_count": 15,
   "id": "bec89250-e1ac-438e-8b16-dbfb0c4ce396",
   "metadata": {},
   "outputs": [
    {
     "name": "stdout",
     "output_type": "stream",
     "text": [
      "Epoch 1/3\n",
      "1794/1794 [==============================] - 829s 457ms/step - loss: 2.1806 - accuracy: 0.3995 - val_loss: 1.9233 - val_accuracy: 0.4258\n",
      "Epoch 2/3\n",
      "1794/1794 [==============================] - 818s 456ms/step - loss: 2.1486 - accuracy: 0.4018 - val_loss: 1.9119 - val_accuracy: 0.4268\n",
      "Epoch 3/3\n",
      "1794/1794 [==============================] - 819s 456ms/step - loss: 2.1342 - accuracy: 0.4034 - val_loss: 1.9070 - val_accuracy: 0.4272\n"
     ]
    }
   ],
   "source": [
    "tensorboard_callback_T5Small = TensorBoard(log_dir=\"./summarization_modelT5Small_save/logs\")\n",
    "\n",
    "callbacks = [tensorboard_callback_T5Small]\n",
    "\n",
    "history = modelT5Small.fit(\n",
    "    train_dataset_T5Small, validation_data=validation_dataset_T5Small, epochs=epochs, callbacks=callbacks, batch_size=batch_size\n",
    ")"
   ]
  },
  {
   "cell_type": "code",
   "execution_count": 18,
   "id": "2e02568d-ea98-4fcb-b872-2450f456112d",
   "metadata": {},
   "outputs": [],
   "source": [
    "def generate_preds(tokenizer, model):\n",
    "    evaluate = []\n",
    "    for element in dataset_test['article']:\n",
    "        tokenized = tokenizer([element], return_tensors='np')\n",
    "        pred = model.generate(**tokenized, max_length=128)\n",
    "        pred = pred.numpy()\n",
    "        with tf.device(\"CPU\"):\n",
    "            evaluate.append(pred)\n",
    "    pred = []\n",
    "    for article in evaluate:\n",
    "        new_article = tokenizer.decode(article[0], skip_special_tokens=True)\n",
    "        with tf.device(\"CPU\"):\n",
    "            pred.append(new_article)\n",
    "    return pred"
   ]
  },
  {
   "cell_type": "code",
   "execution_count": 19,
   "id": "33aa301a-0f64-4214-ad14-855bf39f3aa8",
   "metadata": {},
   "outputs": [],
   "source": [
    "def actual_preds(dataset):\n",
    "    actual = []\n",
    "    for summary in dataset['highlights']:\n",
    "        with tf.device(\"CPU\"):\n",
    "            actual.append(summary)\n",
    "    return actual"
   ]
  },
  {
   "cell_type": "code",
   "execution_count": 20,
   "id": "b098ead2-bd36-4488-a565-732ac2502bb2",
   "metadata": {},
   "outputs": [
    {
     "name": "stderr",
     "output_type": "stream",
     "text": [
      "Token indices sequence length is longer than the specified maximum sequence length for this model (787 > 512). Running this sequence through the model will result in indexing errors\n"
     ]
    }
   ],
   "source": [
    "pred_T5Small = generate_preds(tokenizerT5Small, modelT5Small)"
   ]
  },
  {
   "cell_type": "code",
   "execution_count": 21,
   "id": "230b94c6-8fab-465f-a35c-d2eae17b694f",
   "metadata": {},
   "outputs": [],
   "source": [
    "actual_T5Small = actual_preds(dataset_test)"
   ]
  },
  {
   "cell_type": "code",
   "execution_count": 22,
   "id": "56896a74-00fc-4f2f-b7aa-9c209124699f",
   "metadata": {},
   "outputs": [],
   "source": [
    "def get_rouge_scores(actual_summary, predicted_summary):\n",
    "    rouge = Rouge()\n",
    "    try: \n",
    "        if (len(actual_summary) == len(predicted_summary)):\n",
    "            pass\n",
    "    except Exception as e:\n",
    "        print(f\"lengths of actual and predictions don't match: {e}\")\n",
    "    score_total1 = 0\n",
    "    score_total2 = 0\n",
    "    score_totalL = 0\n",
    "    for i in range(0, len(actual_summary)):\n",
    "        scores = rouge.get_scores(predicted_summary[i], actual_summary[i])\n",
    "        \n",
    "        score_total1 += scores[0]['rouge-1']['f']\n",
    "        score_total2 += scores[0]['rouge-2']['f']\n",
    "        score_totalL += scores[0]['rouge-l']['f']\n",
    "    return score_total1 / len(actual_summary), score_total2 / len(actual_summary), score_totalL / len(actual_summary)"
   ]
  },
  {
   "cell_type": "code",
   "execution_count": 23,
   "id": "68a8d4f4-09ac-45c5-8daa-6827adbc3075",
   "metadata": {},
   "outputs": [],
   "source": [
    "rouge1T5Small, rouge2T5Small, rougelT5Small = get_rouge_scores(actual_T5Small,pred_T5Small)"
   ]
  },
  {
   "cell_type": "code",
   "execution_count": 25,
   "id": "c94518e1-0720-4c20-9b65-f9b1a15ffa90",
   "metadata": {},
   "outputs": [
    {
     "name": "stdout",
     "output_type": "stream",
     "text": [
      "0.2845 0.101 0.2668\n"
     ]
    }
   ],
   "source": [
    "print(round(rouge1T5Small, 4), round(rouge2T5Small, 4), round(rougelT5Small, 4))"
   ]
  },
  {
   "cell_type": "code",
   "execution_count": 16,
   "id": "3d27cc52-0312-4ff1-b991-494a1681110f",
   "metadata": {},
   "outputs": [
    {
     "data": {
      "image/png": "[encoded data removed]",
      "text/plain": [
       "<Figure size 432x288 with 1 Axes>"
      ]
     },
     "metadata": {
      "needs_background": "light"
     },
     "output_type": "display_data"
    }
   ],
   "source": [
    "plt.plot(history.history['accuracy'])\n",
    "plt.plot(history.history['val_accuracy'])\n",
    "plt.title('model accuracy')\n",
    "plt.ylabel('accuracy')\n",
    "plt.xlabel('epoch')\n",
    "plt.legend(['train', 'val'], loc='upper left')\n",
    "plt.show()"
   ]
  },
  {
   "cell_type": "code",
   "execution_count": 17,
   "id": "58ac1aff-8305-491b-952a-b10b79138b53",
   "metadata": {},
   "outputs": [
    {
     "data": {
      "image/png": "[encoded data removed]",
      "text/plain": [
       "<Figure size 432x288 with 1 Axes>"
      ]
     },
     "metadata": {
      "needs_background": "light"
     },
     "output_type": "display_data"
    }
   ],
   "source": [
    "plt.plot(history.history['loss'])\n",
    "plt.plot(history.history['val_loss'])\n",
    "plt.title('model loss')\n",
    "plt.ylabel('loss')\n",
    "plt.xlabel('epoch')\n",
    "plt.legend(['train', 'val'], loc='upper left')\n",
    "plt.show()"
   ]
  },
  {
   "cell_type": "code",
   "execution_count": null,
   "id": "c7df6d91-3010-4d91-bf0e-1048ac4a65a1",
   "metadata": {},
   "outputs": [],
   "source": []
  }
 ],
 "metadata": {
  "kernelspec": {
   "display_name": "Python 3 (ipykernel)",
   "language": "python",
   "name": "python3"
  },
  "language_info": {
   "codemirror_mode": {
    "name": "ipython",
    "version": 3
   },
   "file_extension": ".py",
   "mimetype": "text/x-python",
   "name": "python",
   "nbconvert_exporter": "python",
   "pygments_lexer": "ipython3",
   "version": "3.9.18"
  }
 },
 "nbformat": 4,
 "nbformat_minor": 5
}
